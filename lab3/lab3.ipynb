{
 "cells": [
  {
   "cell_type": "markdown",
   "metadata": {},
   "source": [
    "# Exercise 1\n",
    "We will analyze the effect of the non-informative prior distribution on Bayesian inference. You aim to compare two models, one with a uniform prior, second with the beta distribution. Please, generate 200 draws of a biased coin with a probability of getting a tail equal to 0.7 and compare inference results as a function of flips number. Plot and interpret the results."
   ]
  },
  {
   "cell_type": "code",
   "execution_count": 1,
   "metadata": {},
   "outputs": [],
   "source": [
    "from cmdstanpy import CmdStanModel\n",
    "import pandas as pd\n",
    "import arviz as az \n",
    "import numpy as np\n",
    "import matplotlib.pyplot as plt\n",
    "import scipy.stats as stats"
   ]
  },
  {
   "cell_type": "code",
   "execution_count": 2,
   "metadata": {},
   "outputs": [
    {
     "data": {
      "text/plain": [
       "'/home/jaqb/Documents/cmdstan-2.26.1'"
      ]
     },
     "execution_count": 2,
     "metadata": {},
     "output_type": "execute_result"
    }
   ],
   "source": [
    "from cmdstanpy import set_cmdstan_path, cmdstan_path\n",
    "set_cmdstan_path('/home/jaqb/Documents/cmdstan-2.26.1')\n",
    "cmdstan_path()"
   ]
  },
  {
   "cell_type": "markdown",
   "metadata": {},
   "source": [
    "#### Simulate tossing a coin 200 times, with probability of tail 0.7:"
   ]
  },
  {
   "cell_type": "code",
   "execution_count": 23,
   "metadata": {},
   "outputs": [],
   "source": [
    "N = 200\n",
    "coin_toss = [np.random.choice([0, 1], p=[0.3, 0.7]) for _ in range(N)]"
   ]
  },
  {
   "cell_type": "markdown",
   "metadata": {},
   "source": [
    "#### Count tails (represented by ones):"
   ]
  },
  {
   "cell_type": "code",
   "execution_count": 13,
   "metadata": {},
   "outputs": [
    {
     "data": {
      "text/plain": [
       "145"
      ]
     },
     "execution_count": 13,
     "metadata": {},
     "output_type": "execute_result"
    }
   ],
   "source": [
    "T = sum(coin_toss)\n",
    "T"
   ]
  },
  {
   "cell_type": "markdown",
   "metadata": {},
   "source": [
    "##### Stan code for model1:\n",
    "<code>data {\n",
    "   int&lt;lower=0&gt; T;\n",
    "   int&lt;lower=0&gt; N;\n",
    "}\n",
    "parameters {\n",
    "   real&lt;lower=0, upper=1&gt; p; \n",
    "}\n",
    "model {\n",
    "    p ~ uniform(0, 1); // prior for p\n",
    "    T ~ binomial(N, p);\n",
    "}</code>"
   ]
  },
  {
   "cell_type": "code",
   "execution_count": 3,
   "metadata": {},
   "outputs": [
    {
     "name": "stderr",
     "output_type": "stream",
     "text": [
      "INFO:cmdstanpy:found newer exe file, not recompiling\n",
      "INFO:cmdstanpy:compiled model file: /home/jaqb/Documents/stan/Data-Analytics-Course/lab3/model1\n"
     ]
    }
   ],
   "source": [
    "model1 = CmdStanModel(stan_file='model1.stan')"
   ]
  },
  {
   "cell_type": "code",
   "execution_count": 4,
   "metadata": {},
   "outputs": [
    {
     "name": "stderr",
     "output_type": "stream",
     "text": [
      "INFO:cmdstanpy:start chain 1\n",
      "INFO:cmdstanpy:start chain 2\n",
      "INFO:cmdstanpy:start chain 3\n",
      "INFO:cmdstanpy:start chain 4\n",
      "INFO:cmdstanpy:finish chain 4\n",
      "INFO:cmdstanpy:finish chain 3\n",
      "INFO:cmdstanpy:finish chain 1\n",
      "INFO:cmdstanpy:finish chain 2\n"
     ]
    }
   ],
   "source": [
    "samples1 = model1.sample(data={\n",
    "    'T': 145,\n",
    "    'N': 200\n",
    "}, output_dir='samples')"
   ]
  },
  {
   "cell_type": "markdown",
   "metadata": {},
   "source": [
    "#### In this case uniform prior is sufficient for the model to infer proper posterior distribution:"
   ]
  },
  {
   "cell_type": "code",
   "execution_count": 102,
   "metadata": {},
   "outputs": [
    {
     "data": {
      "image/png": "[encoded data removed]",
      "text/plain": [
       "<Figure size 432x288 with 1 Axes>"
      ]
     },
     "metadata": {
      "needs_background": "light"
     },
     "output_type": "display_data"
    }
   ],
   "source": [
    "x = np.linspace(0, 1, 100)\n",
    "posterior = samples1.stan_variable('p')\n",
    "plt.plot(x, stats.uniform.pdf(x))\n",
    "plt.hist(posterior, bins=100, density=True, color='lightgreen')\n",
    "plt.xlabel('p')\n",
    "plt.legend(['prior', 'posterior'])\n",
    "plt.show()"
   ]
  },
  {
   "cell_type": "code",
   "execution_count": 8,
   "metadata": {},
   "outputs": [
    {
     "name": "stdout",
     "output_type": "stream",
     "text": [
      "Posterior mean: 0.7234885795\n",
      "89% confidennce interval: [0.677463, 0.776522]\n"
     ]
    }
   ],
   "source": [
    "mean_p = np.mean(posterior)\n",
    "ci = az.hdi(posterior, 0.89)\n",
    "print(f\"Posterior mean: {mean_p}\")\n",
    "print(f\"89% confidennce interval: [{ci[0]}, {ci[1]}]\")"
   ]
  },
  {
   "cell_type": "markdown",
   "metadata": {},
   "source": [
    "#### Stan code for model2:\n",
    "<code>data {\n",
    "   int&lt;lower=0&gt; T;\n",
    "   int&lt;lower=0&gt; N;\n",
    "   real&lt;lower=0&gt; alfa;\n",
    "   real&lt;lower=0&gt; beta;\n",
    "}\n",
    "parameters {\n",
    "   real&lt;lower=0, upper=1&gt; p;\n",
    "}\n",
    "model {\n",
    "    p ~ beta(alfa, beta); // prior for p\n",
    "    T ~ binomial(N, p);\n",
    "}</code>"
   ]
  },
  {
   "cell_type": "code",
   "execution_count": 9,
   "metadata": {},
   "outputs": [
    {
     "name": "stderr",
     "output_type": "stream",
     "text": [
      "INFO:cmdstanpy:found newer exe file, not recompiling\n",
      "INFO:cmdstanpy:compiled model file: /home/jaqb/Documents/stan/Data-Analytics-Course/lab3/model2\n"
     ]
    }
   ],
   "source": [
    "model2 = CmdStanModel(stan_file='model2.stan')"
   ]
  },
  {
   "cell_type": "code",
   "execution_count": 10,
   "metadata": {},
   "outputs": [
    {
     "name": "stderr",
     "output_type": "stream",
     "text": [
      "INFO:cmdstanpy:start chain 1\n",
      "INFO:cmdstanpy:start chain 2\n",
      "INFO:cmdstanpy:start chain 3\n",
      "INFO:cmdstanpy:start chain 4\n",
      "INFO:cmdstanpy:finish chain 4\n",
      "INFO:cmdstanpy:finish chain 1\n",
      "INFO:cmdstanpy:finish chain 2\n",
      "INFO:cmdstanpy:finish chain 3\n"
     ]
    }
   ],
   "source": [
    "samples2 = model2.sample(data={\n",
    "    'T': 145,\n",
    "    'N': 200,\n",
    "    'alfa': 2,\n",
    "    'beta': 5\n",
    "}, output_dir='samples')"
   ]
  },
  {
   "cell_type": "markdown",
   "metadata": {},
   "source": [
    "#### Even if prior distribution is not informative, with that many tosses the model does a great job creating posterior distribution. Posterior mean and 0.89 confidence interval is almost the same as before:"
   ]
  },
  {
   "cell_type": "code",
   "execution_count": 101,
   "metadata": {},
   "outputs": [
    {
     "data": {
      "image/png": "[encoded data removed]",
      "text/plain": [
       "<Figure size 432x288 with 1 Axes>"
      ]
     },
     "metadata": {
      "needs_background": "light"
     },
     "output_type": "display_data"
    }
   ],
   "source": [
    "x = np.linspace(0, 1, 100)\n",
    "posterior = samples2.stan_variable('p')\n",
    "plt.plot(x, stats.beta.pdf(x, 2, 5))\n",
    "plt.hist(posterior, bins=100, density=True, color='lightgreen');\n",
    "plt.xlabel('p')\n",
    "plt.legend(['prior', 'posterior'])\n",
    "plt.show()"
   ]
  },
  {
   "cell_type": "code",
   "execution_count": 12,
   "metadata": {},
   "outputs": [
    {
     "name": "stdout",
     "output_type": "stream",
     "text": [
      "Posterior mean: 0.7111529842500001\n",
      "89% confidennce interval: [0.666129, 0.762192]\n"
     ]
    }
   ],
   "source": [
    "mean_p = np.mean(posterior)\n",
    "ci = az.hdi(posterior, 0.89)\n",
    "print(f\"Posterior mean: {mean_p}\")\n",
    "print(f\"89% confidennce interval: [{ci[0]}, {ci[1]}]\")"
   ]
  },
  {
   "cell_type": "markdown",
   "metadata": {},
   "source": [
    "#### Considering only 7 tosses:"
   ]
  },
  {
   "cell_type": "code",
   "execution_count": 15,
   "metadata": {},
   "outputs": [
    {
     "data": {
      "text/plain": [
       "4"
      ]
     },
     "execution_count": 15,
     "metadata": {},
     "output_type": "execute_result"
    }
   ],
   "source": [
    "sum(coin_toss[:7])"
   ]
  },
  {
   "cell_type": "code",
   "execution_count": 16,
   "metadata": {},
   "outputs": [
    {
     "name": "stderr",
     "output_type": "stream",
     "text": [
      "INFO:cmdstanpy:start chain 1\n",
      "INFO:cmdstanpy:start chain 2\n",
      "INFO:cmdstanpy:start chain 3\n",
      "INFO:cmdstanpy:start chain 4\n",
      "INFO:cmdstanpy:finish chain 1\n",
      "INFO:cmdstanpy:finish chain 2\n",
      "INFO:cmdstanpy:finish chain 4\n",
      "INFO:cmdstanpy:finish chain 3\n"
     ]
    }
   ],
   "source": [
    "samples3 = model1.sample(data={\n",
    "    'T': 4,\n",
    "    'N': 7\n",
    "}, output_dir='samples')"
   ]
  },
  {
   "cell_type": "markdown",
   "metadata": {},
   "source": [
    "#### With only 7 tosses and uniform prior, posterior distribution has wider 0.89 confidennce interval than before:"
   ]
  },
  {
   "cell_type": "code",
   "execution_count": 100,
   "metadata": {},
   "outputs": [
    {
     "data": {
      "image/png": "[encoded data removed]",
      "text/plain": [
       "<Figure size 432x288 with 1 Axes>"
      ]
     },
     "metadata": {
      "needs_background": "light"
     },
     "output_type": "display_data"
    }
   ],
   "source": [
    "x = np.linspace(0, 1, 100)\n",
    "posterior = samples3.stan_variable('p')\n",
    "plt.plot(x, stats.uniform.pdf(x))\n",
    "plt.hist(posterior, bins=100, density=True, color='lightgreen')\n",
    "plt.xlabel('p')\n",
    "plt.legend(['prior', 'posterior'])\n",
    "plt.show()"
   ]
  },
  {
   "cell_type": "code",
   "execution_count": 18,
   "metadata": {},
   "outputs": [
    {
     "name": "stdout",
     "output_type": "stream",
     "text": [
      "Posterior mean: 0.5533561004499999\n",
      "89% confidennce interval: [0.313723, 0.818392]\n"
     ]
    }
   ],
   "source": [
    "mean_p = np.mean(posterior)\n",
    "ci = az.hdi(posterior, 0.89)\n",
    "print(f\"Posterior mean: {mean_p}\")\n",
    "print(f\"89% confidennce interval: [{ci[0]}, {ci[1]}]\")"
   ]
  },
  {
   "cell_type": "code",
   "execution_count": 19,
   "metadata": {},
   "outputs": [
    {
     "name": "stderr",
     "output_type": "stream",
     "text": [
      "INFO:cmdstanpy:start chain 1\n",
      "INFO:cmdstanpy:start chain 2\n",
      "INFO:cmdstanpy:start chain 3\n",
      "INFO:cmdstanpy:start chain 4\n",
      "INFO:cmdstanpy:finish chain 2\n",
      "INFO:cmdstanpy:finish chain 1\n",
      "INFO:cmdstanpy:finish chain 3\n",
      "INFO:cmdstanpy:finish chain 4\n"
     ]
    }
   ],
   "source": [
    "samples4 = model2.sample(data={\n",
    "    'T': 4,\n",
    "    'N': 7,\n",
    "    'alfa': 2,\n",
    "    'beta': 5\n",
    "}, output_dir='samples')"
   ]
  },
  {
   "cell_type": "markdown",
   "metadata": {},
   "source": [
    "#### In this case, non-informative prior caused posterior to be moved towards lower values of p. Mean of posterior amounts to 0.43 instead of 0.55, and 89% confidennce interval is (0.23, 0.63) instead of (0.31, 0.81). Values of p above approximately 0.8 have been almost completely cut by the prior:"
   ]
  },
  {
   "cell_type": "code",
   "execution_count": 99,
   "metadata": {},
   "outputs": [
    {
     "data": {
      "image/png": "[encoded data removed]",
      "text/plain": [
       "<Figure size 432x288 with 1 Axes>"
      ]
     },
     "metadata": {
      "needs_background": "light"
     },
     "output_type": "display_data"
    }
   ],
   "source": [
    "x = np.linspace(0, 1, 100)\n",
    "posterior = samples4.stan_variable('p')\n",
    "plt.plot(x, stats.beta.pdf(x, 2, 5))\n",
    "plt.hist(posterior, bins=100, density=True, color='lightgreen');\n",
    "plt.xlabel('p')\n",
    "plt.legend(['prior', 'posterior'])\n",
    "plt.show()"
   ]
  },
  {
   "cell_type": "code",
   "execution_count": 22,
   "metadata": {},
   "outputs": [
    {
     "name": "stdout",
     "output_type": "stream",
     "text": [
      "Posterior mean: 0.43269635945000007\n",
      "89% confidennce interval: [0.237553, 0.636225]\n"
     ]
    }
   ],
   "source": [
    "mean_p = np.mean(posterior)\n",
    "ci = az.hdi(posterior, 0.89)\n",
    "print(f\"Posterior mean: {mean_p}\")\n",
    "print(f\"89% confidennce interval: [{ci[0]}, {ci[1]}]\")"
   ]
  },
  {
   "cell_type": "markdown",
   "metadata": {},
   "source": [
    "# Exercise 2 part 1\n",
    "We consider the number of fatal accidents and deaths on scheduled airline flights per year over a ten-year period. Source: Gelman et al. 2014 Reproduced from Statistical Abstract of the United States.\n",
    "Our goal is to create a model predicting such number in 1986."
   ]
  },
  {
   "cell_type": "code",
   "execution_count": 5,
   "metadata": {},
   "outputs": [],
   "source": [
    "from cmdstanpy import CmdStanModel\n",
    "import pandas as pd\n",
    "import arviz as az \n",
    "import numpy as np\n",
    "import matplotlib.pyplot as plt\n",
    "import scipy.stats as stats"
   ]
  },
  {
   "cell_type": "markdown",
   "metadata": {},
   "source": [
    "Using the data from the following table create a model predicting the number of passenger deaths. Use Poisson distribution assuming that the accident rate is constant for all years and not depending on anything."
   ]
  },
  {
   "cell_type": "code",
   "execution_count": 32,
   "metadata": {},
   "outputs": [],
   "source": [
    "dts=[24,734,25,516,31,754,31,877,22,814,21,362,26,764,20,809,16,223,22,1066]\n",
    "c1=dts[::2]\n",
    "c2=dts[1::2]\n",
    "\n",
    "Airline_data=pd.DataFrame({'Year':[1976,1977,1978,1979,1980,1981,1982,1983,1984,1985],\n",
    "'Fatal accidents':c1,  \n",
    "'Passenger deaths':c2,\n",
    "'Death rate':[0.19,0.12,0.15,0.16,0.14,0.06,0.13,0.13,0.03,0.15]}).set_index('Year')\n",
    "Airline_data['Miles flown [100 mln miles]']=np.round(Airline_data['Passenger deaths']/Airline_data['Death rate'])"
   ]
  },
  {
   "cell_type": "code",
   "execution_count": 33,
   "metadata": {},
   "outputs": [
    {
     "data": {
      "text/html": [
       "<div>\n",
       "<style scoped>\n",
       "    .dataframe tbody tr th:only-of-type {\n",
       "        vertical-align: middle;\n",
       "    }\n",
       "\n",
       "    .dataframe tbody tr th {\n",
       "        vertical-align: top;\n",
       "    }\n",
       "\n",
       "    .dataframe thead th {\n",
       "        text-align: right;\n",
       "    }\n",
       "</style>\n",
       "<table border=\"1\" class=\"dataframe\">\n",
       "  <thead>\n",
       "    <tr style=\"text-align: right;\">\n",
       "      <th></th>\n",
       "      <th>Fatal accidents</th>\n",
       "      <th>Passenger deaths</th>\n",
       "      <th>Death rate</th>\n",
       "      <th>Miles flown [100 mln miles]</th>\n",
       "    </tr>\n",
       "    <tr>\n",
       "      <th>Year</th>\n",
       "      <th></th>\n",
       "      <th></th>\n",
       "      <th></th>\n",
       "      <th></th>\n",
       "    </tr>\n",
       "  </thead>\n",
       "  <tbody>\n",
       "    <tr>\n",
       "      <th>1976</th>\n",
       "      <td>24</td>\n",
       "      <td>734</td>\n",
       "      <td>0.19</td>\n",
       "      <td>3863.0</td>\n",
       "    </tr>\n",
       "    <tr>\n",
       "      <th>1977</th>\n",
       "      <td>25</td>\n",
       "      <td>516</td>\n",
       "      <td>0.12</td>\n",
       "      <td>4300.0</td>\n",
       "    </tr>\n",
       "    <tr>\n",
       "      <th>1978</th>\n",
       "      <td>31</td>\n",
       "      <td>754</td>\n",
       "      <td>0.15</td>\n",
       "      <td>5027.0</td>\n",
       "    </tr>\n",
       "    <tr>\n",
       "      <th>1979</th>\n",
       "      <td>31</td>\n",
       "      <td>877</td>\n",
       "      <td>0.16</td>\n",
       "      <td>5481.0</td>\n",
       "    </tr>\n",
       "    <tr>\n",
       "      <th>1980</th>\n",
       "      <td>22</td>\n",
       "      <td>814</td>\n",
       "      <td>0.14</td>\n",
       "      <td>5814.0</td>\n",
       "    </tr>\n",
       "    <tr>\n",
       "      <th>1981</th>\n",
       "      <td>21</td>\n",
       "      <td>362</td>\n",
       "      <td>0.06</td>\n",
       "      <td>6033.0</td>\n",
       "    </tr>\n",
       "    <tr>\n",
       "      <th>1982</th>\n",
       "      <td>26</td>\n",
       "      <td>764</td>\n",
       "      <td>0.13</td>\n",
       "      <td>5877.0</td>\n",
       "    </tr>\n",
       "    <tr>\n",
       "      <th>1983</th>\n",
       "      <td>20</td>\n",
       "      <td>809</td>\n",
       "      <td>0.13</td>\n",
       "      <td>6223.0</td>\n",
       "    </tr>\n",
       "    <tr>\n",
       "      <th>1984</th>\n",
       "      <td>16</td>\n",
       "      <td>223</td>\n",
       "      <td>0.03</td>\n",
       "      <td>7433.0</td>\n",
       "    </tr>\n",
       "    <tr>\n",
       "      <th>1985</th>\n",
       "      <td>22</td>\n",
       "      <td>1066</td>\n",
       "      <td>0.15</td>\n",
       "      <td>7107.0</td>\n",
       "    </tr>\n",
       "  </tbody>\n",
       "</table>\n",
       "</div>"
      ],
      "text/plain": [
       "      Fatal accidents  Passenger deaths  Death rate  \\\n",
       "Year                                                  \n",
       "1976               24               734        0.19   \n",
       "1977               25               516        0.12   \n",
       "1978               31               754        0.15   \n",
       "1979               31               877        0.16   \n",
       "1980               22               814        0.14   \n",
       "1981               21               362        0.06   \n",
       "1982               26               764        0.13   \n",
       "1983               20               809        0.13   \n",
       "1984               16               223        0.03   \n",
       "1985               22              1066        0.15   \n",
       "\n",
       "      Miles flown [100 mln miles]  \n",
       "Year                               \n",
       "1976                       3863.0  \n",
       "1977                       4300.0  \n",
       "1978                       5027.0  \n",
       "1979                       5481.0  \n",
       "1980                       5814.0  \n",
       "1981                       6033.0  \n",
       "1982                       5877.0  \n",
       "1983                       6223.0  \n",
       "1984                       7433.0  \n",
       "1985                       7107.0  "
      ]
     },
     "execution_count": 33,
     "metadata": {},
     "output_type": "execute_result"
    }
   ],
   "source": [
    "Airline_data"
   ]
  },
  {
   "cell_type": "markdown",
   "metadata": {},
   "source": [
    "Model3 assumes that number of passenger deaths is constant and has a Poisson distribution with $\\lambda$ parameter. Prior for $\\lambda$ has a normal distribution with mean 600 and standard deviation 257, because it was assumed that one accident with 100 fatalities can happen every 2 months (600 deaths per year).  Such accident happening every month (1200 deaths per year) is unlikely, so that 99% of prior values should be less than 1200. So the standard deviation of prior should account to 257."
   ]
  },
  {
   "cell_type": "markdown",
   "metadata": {},
   "source": [
    "#### Stan code for model3:\n",
    "<code>data {\n",
    "    int&lt;lower=1&gt; N;\n",
    "    int passengerDeaths[N];\n",
    "}\n",
    "parameters {\n",
    "    real&lt;lower=0&gt; lambda;\n",
    "}\n",
    "model {\n",
    "    passengerDeaths ~ poisson(lambda);\n",
    "    lambda ~ normal(600, 257);\n",
    "}</code>"
   ]
  },
  {
   "cell_type": "code",
   "execution_count": 30,
   "metadata": {},
   "outputs": [
    {
     "name": "stderr",
     "output_type": "stream",
     "text": [
      "INFO:cmdstanpy:compiling stan program, exe file: /home/jaqb/Documents/stan/Data-Analytics-Course/lab3/model3\n",
      "INFO:cmdstanpy:compiler options: stanc_options=None, cpp_options=None\n",
      "INFO:cmdstanpy:compiled model file: /home/jaqb/Documents/stan/Data-Analytics-Course/lab3/model3\n"
     ]
    }
   ],
   "source": [
    "model3 = CmdStanModel(stan_file='model3.stan')"
   ]
  },
  {
   "cell_type": "code",
   "execution_count": 34,
   "metadata": {},
   "outputs": [
    {
     "name": "stderr",
     "output_type": "stream",
     "text": [
      "INFO:cmdstanpy:start chain 1\n",
      "INFO:cmdstanpy:start chain 2\n",
      "INFO:cmdstanpy:start chain 3\n",
      "INFO:cmdstanpy:start chain 4\n",
      "INFO:cmdstanpy:finish chain 2\n",
      "INFO:cmdstanpy:finish chain 4\n",
      "INFO:cmdstanpy:finish chain 3\n",
      "INFO:cmdstanpy:finish chain 1\n"
     ]
    }
   ],
   "source": [
    "passengerDeaths = Airline_data['Passenger deaths'].to_list()\n",
    "samples5 = model3.sample(data={\n",
    "    'N': len(passengerDeaths),\n",
    "    'passengerDeaths': passengerDeaths\n",
    "    }, output_dir='sample')"
   ]
  },
  {
   "cell_type": "code",
   "execution_count": 98,
   "metadata": {},
   "outputs": [
    {
     "data": {
      "image/png": "[encoded data removed]",
      "text/plain": [
       "<Figure size 432x288 with 1 Axes>"
      ]
     },
     "metadata": {
      "needs_background": "light"
     },
     "output_type": "display_data"
    }
   ],
   "source": [
    "x = np.linspace(400,1200, 100)\n",
    "y = stats.norm.pdf(x, 600, 468)\n",
    "plt.plot(x, y)\n",
    "lambdas = samples5.stan_variable('lambda')\n",
    "plt.hist(lambdas, bins=100, density=True, color='lightgreen')\n",
    "plt.xlabel('lambda')\n",
    "plt.legend(['prior', 'posterior'])\n",
    "plt.show()"
   ]
  },
  {
   "cell_type": "code",
   "execution_count": 37,
   "metadata": {},
   "outputs": [
    {
     "name": "stdout",
     "output_type": "stream",
     "text": [
      "Posterior mean: 692.3543495\n",
      "89% confidennce interval: [679.401, 705.602]\n"
     ]
    }
   ],
   "source": [
    "mean_lambda = np.mean(lambdas)\n",
    "ci = az.hdi(lambdas, 0.89)\n",
    "print(f\"Posterior mean: {mean_lambda}\")\n",
    "print(f\"89% confidennce interval: [{ci[0]}, {ci[1]}]\")"
   ]
  },
  {
   "cell_type": "markdown",
   "metadata": {},
   "source": [
    "#### Posterior predictive distribution for number of deaths:"
   ]
  },
  {
   "cell_type": "code",
   "execution_count": 42,
   "metadata": {},
   "outputs": [],
   "source": [
    "numDeaths = stats.poisson.rvs(lambdas, size=len(lambdas))"
   ]
  },
  {
   "cell_type": "code",
   "execution_count": 103,
   "metadata": {},
   "outputs": [
    {
     "data": {
      "image/png": "[encoded data removed]",
      "text/plain": [
       "<Figure size 432x288 with 1 Axes>"
      ]
     },
     "metadata": {
      "needs_background": "light"
     },
     "output_type": "display_data"
    }
   ],
   "source": [
    "plt.hist(passengerDeaths, density=True, color='lightblue')\n",
    "plt.hist(numDeaths, bins=20, density=True, color='lightgreen')\n",
    "plt.xlabel('Number of deaths')\n",
    "plt.legend(['Data', 'Prediction'])\n",
    "plt.show()"
   ]
  },
  {
   "cell_type": "code",
   "execution_count": 44,
   "metadata": {},
   "outputs": [
    {
     "name": "stdout",
     "output_type": "stream",
     "text": [
      "Number of deaths mean: 692.3543495\n",
      "89% confidennce interval: [645, 734]\n"
     ]
    }
   ],
   "source": [
    "mean_num_deaths = np.mean(numDeaths)\n",
    "ci = az.hdi(numDeaths, 0.89)\n",
    "print(f\"Number of deaths mean: {mean_lambda}\")\n",
    "print(f\"89% confidennce interval: [{ci[0]}, {ci[1]}]\")"
   ]
  },
  {
   "cell_type": "markdown",
   "metadata": {},
   "source": [
    "The model is very confident about number of deaths being around 700 people per year, while in reality this number can be very different depending on a specific year."
   ]
  },
  {
   "cell_type": "markdown",
   "metadata": {},
   "source": [
    "# Exercise 2 part 2\n",
    "Using the same data as before, create a model predicting the number of passenger deaths. Use Poisson distribution assuming that the intensity is constant, but the rate is a product of intensity and miles flown."
   ]
  },
  {
   "cell_type": "code",
   "execution_count": 46,
   "metadata": {},
   "outputs": [
    {
     "name": "stdout",
     "output_type": "stream",
     "text": [
      "5715.8\n"
     ]
    }
   ],
   "source": [
    "miles_mean = np.mean(Airline_data['Miles flown [100 mln miles]'])\n",
    "print(miles_mean)"
   ]
  },
  {
   "cell_type": "code",
   "execution_count": 48,
   "metadata": {},
   "outputs": [
    {
     "data": {
      "text/plain": [
       "0.10497218237167151"
      ]
     },
     "execution_count": 48,
     "metadata": {},
     "output_type": "execute_result"
    }
   ],
   "source": [
    "600/miles_mean"
   ]
  },
  {
   "cell_type": "code",
   "execution_count": 75,
   "metadata": {},
   "outputs": [
    {
     "data": {
      "text/plain": [
       "0.04496308478253263"
      ]
     },
     "execution_count": 75,
     "metadata": {},
     "output_type": "execute_result"
    }
   ],
   "source": [
    "257/miles_mean"
   ]
  },
  {
   "cell_type": "markdown",
   "metadata": {},
   "source": [
    "In model4, number of passenger deaths is modeled as having Poisson distribution with a parameter being a product of new parameter theta and number of miles flown in that year. The prior for theta was computed, so that the product of it and the mean of miles flown, similar distribution as before."
   ]
  },
  {
   "cell_type": "markdown",
   "metadata": {},
   "source": [
    "#### Stan code for model4:"
   ]
  },
  {
   "cell_type": "markdown",
   "metadata": {},
   "source": [
    "<code>data {\n",
    "    int&lt;lower=1&gt; N;\n",
    "    vector[M] miles;\n",
    "    int passengerDeaths[N];\n",
    "}\n",
    "parameters {\n",
    "    real&lt;lower=0&gt; theta;\n",
    "}\n",
    "model {\n",
    "    theta ~ normal(0.1, 0.044);\n",
    "    for (i in 1:N) {\n",
    "       passengerDeaths[i] ~ poisson(miles[k]*theta);\n",
    "    }\n",
    "}</code>"
   ]
  },
  {
   "cell_type": "code",
   "execution_count": 59,
   "metadata": {},
   "outputs": [
    {
     "name": "stderr",
     "output_type": "stream",
     "text": [
      "INFO:cmdstanpy:compiling stan program, exe file: /home/jaqb/Documents/stan/Data-Analytics-Course/lab3/model4\n",
      "INFO:cmdstanpy:compiler options: stanc_options=None, cpp_options=None\n",
      "INFO:cmdstanpy:compiled model file: /home/jaqb/Documents/stan/Data-Analytics-Course/lab3/model4\n"
     ]
    }
   ],
   "source": [
    "model4 = CmdStanModel(stan_file='model4.stan')"
   ]
  },
  {
   "cell_type": "code",
   "execution_count": 60,
   "metadata": {},
   "outputs": [
    {
     "name": "stderr",
     "output_type": "stream",
     "text": [
      "INFO:cmdstanpy:start chain 1\n",
      "INFO:cmdstanpy:start chain 2\n",
      "INFO:cmdstanpy:start chain 3\n",
      "INFO:cmdstanpy:start chain 4\n",
      "INFO:cmdstanpy:finish chain 2\n",
      "INFO:cmdstanpy:finish chain 1\n",
      "INFO:cmdstanpy:finish chain 4\n",
      "INFO:cmdstanpy:finish chain 3\n"
     ]
    }
   ],
   "source": [
    "passengerDeaths = Airline_data['Passenger deaths'].to_list()\n",
    "miles = Airline_data['Miles flown [100 mln miles]'].to_list()\n",
    "samples6 = model4.sample(data={\n",
    "    'N': len(passengerDeaths),\n",
    "    'passengerDeaths': passengerDeaths,\n",
    "    'miles': miles\n",
    "    }, output_dir='sample')"
   ]
  },
  {
   "cell_type": "code",
   "execution_count": 104,
   "metadata": {},
   "outputs": [
    {
     "data": {
      "image/png": "[encoded data removed]",
      "text/plain": [
       "<Figure size 432x288 with 1 Axes>"
      ]
     },
     "metadata": {
      "needs_background": "light"
     },
     "output_type": "display_data"
    }
   ],
   "source": [
    "x = np.linspace(0,0.2, 100)\n",
    "y = stats.norm.pdf(x, 0.1, 0.044)\n",
    "plt.plot(x, y)\n",
    "thetas = samples6.stan_variable('theta')\n",
    "plt.hist(thetas, bins=100, density=True, color='lightgreen')\n",
    "plt.xlabel('theta')\n",
    "plt.legend(['prior', 'posterior'])\n",
    "plt.show()"
   ]
  },
  {
   "cell_type": "code",
   "execution_count": 84,
   "metadata": {},
   "outputs": [
    {
     "name": "stdout",
     "output_type": "stream",
     "text": [
      "Number of deaths mean: 0.12100862975000001\n",
      "89% confidennce interval: [0.118657, 0.123207]\n"
     ]
    }
   ],
   "source": [
    "mean_thetas = np.mean(thetas)\n",
    "ci = az.hdi(thetas, 0.89)\n",
    "print(f\"Number of deaths mean: {mean_thetas}\")\n",
    "print(f\"89% confidennce interval: [{ci[0]}, {ci[1]}]\")"
   ]
  },
  {
   "cell_type": "markdown",
   "metadata": {},
   "source": [
    "#### Posterior predictive distribution: "
   ]
  },
  {
   "cell_type": "code",
   "execution_count": 95,
   "metadata": {},
   "outputs": [
    {
     "data": {
      "image/png": "[encoded data removed]",
      "text/plain": [
       "<Figure size 504x576 with 10 Axes>"
      ]
     },
     "metadata": {
      "needs_background": "light"
     },
     "output_type": "display_data"
    }
   ],
   "source": [
    "fig, axes = plt.subplots(5, 2, figsize=(7, 8), sharey=True)\n",
    "axes_flat=axes.flatten()\n",
    "for k in range(len(axes_flat)):\n",
    "    ax = axes_flat[k]\n",
    "    simulated_deaths = stats.poisson.rvs(thetas*miles[k], size=len(thetas))\n",
    "    ax.hist(simulated_deaths,bins=20, density=True, color='lightblue')\n",
    "    ax.set_title(Airline_data.index[k])\n",
    "    true_value = passengerDeaths[k]\n",
    "    ax.plot([true_value,true_value],[0,0.02],linestyle='--',color='black')\n",
    "    ax.set_ylim([0,0.012])\n",
    "\n",
    "fig.tight_layout()\n",
    "\n",
    "plt.show()"
   ]
  },
  {
   "cell_type": "markdown",
   "metadata": {},
   "source": [
    "For some years model correctly predicts number of deaths of passangers, but for most of the years, prediction is wrong. There are other factors that influence the number of deaths in air crashes, that have not been taken into account while creating the model.  "
   ]
  }
 ],
 "metadata": {
  "kernelspec": {
   "display_name": "Python 3.8.8 64-bit ('stanEnv': conda)",
   "language": "python",
   "name": "python38864bitstanenvconda31622a7cbca6426181be089bb8215ec1"
  },
  "language_info": {
   "codemirror_mode": {
    "name": "ipython",
    "version": 3
   },
   "file_extension": ".py",
   "mimetype": "text/x-python",
   "name": "python",
   "nbconvert_exporter": "python",
   "pygments_lexer": "ipython3",
   "version": "3.8.8"
  }
 },
 "nbformat": 4,
 "nbformat_minor": 4
}
