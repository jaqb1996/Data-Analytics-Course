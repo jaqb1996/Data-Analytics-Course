{
 "cells": [
  {
   "cell_type": "markdown",
   "metadata": {},
   "source": [
    "# Exercise 1 part 1\n",
    "Using a generalized linear model analyzed Poisson distributed data set named 'discrete_regression_data.csv' (applying Stan)."
   ]
  },
  {
   "cell_type": "code",
   "execution_count": 1,
   "metadata": {},
   "outputs": [],
   "source": [
    "from cmdstanpy import CmdStanModel\n",
    "\n",
    "import arviz as az\n",
    "import numpy as np\n",
    "import scipy.stats as stats\n",
    "\n",
    "import pandas as pd\n",
    "import matplotlib.pyplot as plt\n",
    "import matplotlib as mpl"
   ]
  },
  {
   "cell_type": "code",
   "execution_count": 2,
   "metadata": {},
   "outputs": [
    {
     "data": {
      "text/plain": [
       "'/home/jaqb/Documents/cmdstan-2.26.1'"
      ]
     },
     "execution_count": 2,
     "metadata": {},
     "output_type": "execute_result"
    }
   ],
   "source": [
    "from cmdstanpy import set_cmdstan_path, cmdstan_path\n",
    "set_cmdstan_path('/home/jaqb/Documents/cmdstan-2.26.1')\n",
    "cmdstan_path()"
   ]
  },
  {
   "cell_type": "code",
   "execution_count": 3,
   "metadata": {},
   "outputs": [
    {
     "data": {
      "text/html": [
       "<div>\n",
       "<style scoped>\n",
       "    .dataframe tbody tr th:only-of-type {\n",
       "        vertical-align: middle;\n",
       "    }\n",
       "\n",
       "    .dataframe tbody tr th {\n",
       "        vertical-align: top;\n",
       "    }\n",
       "\n",
       "    .dataframe thead th {\n",
       "        text-align: right;\n",
       "    }\n",
       "</style>\n",
       "<table border=\"1\" class=\"dataframe\">\n",
       "  <thead>\n",
       "    <tr style=\"text-align: right;\">\n",
       "      <th></th>\n",
       "      <th>x_1</th>\n",
       "      <th>x_2</th>\n",
       "      <th>x_3</th>\n",
       "      <th>y</th>\n",
       "    </tr>\n",
       "  </thead>\n",
       "  <tbody>\n",
       "    <tr>\n",
       "      <th>count</th>\n",
       "      <td>1000.000000</td>\n",
       "      <td>1000.000000</td>\n",
       "      <td>1000.000000</td>\n",
       "      <td>1000.000000</td>\n",
       "    </tr>\n",
       "    <tr>\n",
       "      <th>mean</th>\n",
       "      <td>-0.001349</td>\n",
       "      <td>0.328014</td>\n",
       "      <td>-0.008712</td>\n",
       "      <td>8.640000</td>\n",
       "    </tr>\n",
       "    <tr>\n",
       "      <th>std</th>\n",
       "      <td>0.573010</td>\n",
       "      <td>0.294522</td>\n",
       "      <td>0.369813</td>\n",
       "      <td>4.115256</td>\n",
       "    </tr>\n",
       "    <tr>\n",
       "      <th>min</th>\n",
       "      <td>-0.997592</td>\n",
       "      <td>0.000008</td>\n",
       "      <td>-0.992794</td>\n",
       "      <td>0.000000</td>\n",
       "    </tr>\n",
       "    <tr>\n",
       "      <th>25%</th>\n",
       "      <td>-0.501613</td>\n",
       "      <td>0.054107</td>\n",
       "      <td>-0.126214</td>\n",
       "      <td>6.000000</td>\n",
       "    </tr>\n",
       "    <tr>\n",
       "      <th>50%</th>\n",
       "      <td>-0.012899</td>\n",
       "      <td>0.251657</td>\n",
       "      <td>-0.000002</td>\n",
       "      <td>8.000000</td>\n",
       "    </tr>\n",
       "    <tr>\n",
       "      <th>75%</th>\n",
       "      <td>0.501155</td>\n",
       "      <td>0.547333</td>\n",
       "      <td>0.125869</td>\n",
       "      <td>11.000000</td>\n",
       "    </tr>\n",
       "    <tr>\n",
       "      <th>max</th>\n",
       "      <td>0.999151</td>\n",
       "      <td>0.998302</td>\n",
       "      <td>0.997455</td>\n",
       "      <td>28.000000</td>\n",
       "    </tr>\n",
       "  </tbody>\n",
       "</table>\n",
       "</div>"
      ],
      "text/plain": [
       "               x_1          x_2          x_3            y\n",
       "count  1000.000000  1000.000000  1000.000000  1000.000000\n",
       "mean     -0.001349     0.328014    -0.008712     8.640000\n",
       "std       0.573010     0.294522     0.369813     4.115256\n",
       "min      -0.997592     0.000008    -0.992794     0.000000\n",
       "25%      -0.501613     0.054107    -0.126214     6.000000\n",
       "50%      -0.012899     0.251657    -0.000002     8.000000\n",
       "75%       0.501155     0.547333     0.125869    11.000000\n",
       "max       0.999151     0.998302     0.997455    28.000000"
      ]
     },
     "execution_count": 3,
     "metadata": {},
     "output_type": "execute_result"
    }
   ],
   "source": [
    "df = pd.read_csv('discrete_regression_data.csv',index_col=0)\n",
    "df.describe()"
   ]
  },
  {
   "cell_type": "markdown",
   "metadata": {},
   "source": [
    "All of variables $x_1$, $x_2$ and $x_3$ are real. $x_1$ and $x_3$ values are from -1 to 1, and $x_2$ values are from 0 to 1, $y$ variable has only integer values from 0 to 28."
   ]
  },
  {
   "cell_type": "markdown",
   "metadata": {},
   "source": [
    "Model looks like this: $$y\\sim \\textrm{Poisson}(\\lambda)$$\n",
    "$$\\lambda = \\textrm{exp}(\\theta) $$ $$\\theta = \\beta_1x_1 + \\beta_2x_2 +\\beta_3x_3 + \\alpha$$ $$\\beta_1, \\beta_2, \\beta_3 \\sim \\textrm{Normal}(0, \\sigma)$$ $$\\alpha \\sim \\textrm{Normal}(0, \\sigma)$$"
   ]
  },
  {
   "cell_type": "markdown",
   "metadata": {},
   "source": [
    "#### Prior predictive checks"
   ]
  },
  {
   "cell_type": "code",
   "execution_count": 4,
   "metadata": {},
   "outputs": [
    {
     "name": "stdout",
     "output_type": "stream",
     "text": [
      "data {\n",
      "  int N;\n",
      "  real x1[N];\n",
      "  real x2[N];\n",
      "  real x3[N];\n",
      "  real<lower=0> sigma;\n",
      "}\n",
      "\n",
      "generated quantities {\n",
      "  real alpha = normal_rng(0,sigma);\n",
      "  real beta1 = normal_rng(0,sigma);\n",
      "  real beta2 = normal_rng(0,sigma);\n",
      "  real beta3 = normal_rng(0,sigma);\n",
      "  real y[N];\n",
      "  for (i in 1:N) {\n",
      "    y[i] = poisson_log_rng(x1[i]*beta1+x2[i]*beta2+x3[i]*beta3+alpha,sigma);\n",
      "  }\n",
      "}\n",
      "\n"
     ]
    }
   ],
   "source": [
    "with open('model_ppc.stan', 'r') as file:\n",
    "    print(file.read())"
   ]
  },
  {
   "cell_type": "code",
   "execution_count": 9,
   "metadata": {},
   "outputs": [
    {
     "name": "stderr",
     "output_type": "stream",
     "text": [
      "INFO:cmdstanpy:compiling stan program, exe file: /home/jaqb/Documents/stan/Data-Analytics-Course/lab6/model_ppc\n",
      "INFO:cmdstanpy:compiler options: stanc_options=None, cpp_options=None\n",
      "INFO:cmdstanpy:compiled model file: /home/jaqb/Documents/stan/Data-Analytics-Course/lab6/model_ppc\n"
     ]
    }
   ],
   "source": [
    "model_prior_checks = CmdStanModel(stan_file='model_ppc.stan')"
   ]
  },
  {
   "cell_type": "markdown",
   "metadata": {},
   "source": [
    "Trying rather flat prior with $\\sigma$=10: "
   ]
  },
  {
   "cell_type": "code",
   "execution_count": 125,
   "metadata": {},
   "outputs": [
    {
     "name": "stderr",
     "output_type": "stream",
     "text": [
      "INFO:cmdstanpy:start chain 1\n",
      "INFO:cmdstanpy:finish chain 1\n"
     ]
    }
   ],
   "source": [
    "data_prior_checks = dict(N=len(df),\n",
    "                         x1=df.x_1.values,\n",
    "                         x2=df.x_2.values,\n",
    "                         x3=df.x_3.values,\n",
    "                         sigma=10)\n",
    "\n",
    "sim_prior_checks=model_prior_checks.sample(data=data_prior_checks, \n",
    "                           iter_sampling=1000, iter_warmup=0, \n",
    "                           chains=1,\n",
    "                           fixed_param=True)"
   ]
  },
  {
   "cell_type": "code",
   "execution_count": 126,
   "metadata": {},
   "outputs": [],
   "source": [
    "beta1 = sim_prior_checks.stan_variable('beta1')\n",
    "beta2 = sim_prior_checks.stan_variable('beta2')\n",
    "beta3 = sim_prior_checks.stan_variable('beta3')\n",
    "alpha = sim_prior_checks.stan_variable('alpha')"
   ]
  },
  {
   "cell_type": "code",
   "execution_count": 127,
   "metadata": {},
   "outputs": [],
   "source": [
    "params=np.hstack((np.array([beta1]).T, np.array([beta2]).T, np.array([beta3]).T, np.array([alpha]).T))"
   ]
  },
  {
   "cell_type": "code",
   "execution_count": 129,
   "metadata": {},
   "outputs": [
    {
     "data": {
      "image/png": "[encoded data removed]",
      "text/plain": [
       "<Figure size 504x576 with 4 Axes>"
      ]
     },
     "metadata": {
      "needs_background": "light"
     },
     "output_type": "display_data"
    }
   ],
   "source": [
    "fig, axes = plt.subplots(2, 2, figsize=(7, 8), squeeze=False,sharex=True)\n",
    "axes_flat=axes.flatten()\n",
    "names_of_pars = [r'$\\beta_1$',r'$\\beta_2$',r'$\\beta_3$',r'$\\alpha$']\n",
    "for k in range(len(axes_flat)):\n",
    "    ax = axes_flat[k]\n",
    "    ax.hist(params[:,k],bins=20,color='orange',edgecolor='grey',density=True)\n",
    "    ax.set_title(names_of_pars[k])\n",
    "    ax.set_yticks([])\n",
    "fig.tight_layout()\n",
    "\n",
    "plt.show()"
   ]
  },
  {
   "cell_type": "code",
   "execution_count": 130,
   "metadata": {},
   "outputs": [],
   "source": [
    "y_prior_checks = sim_prior_checks.stan_variable('y')"
   ]
  },
  {
   "cell_type": "code",
   "execution_count": 131,
   "metadata": {},
   "outputs": [
    {
     "data": {
      "image/png": "[encoded data removed]",
      "text/plain": [
       "<Figure size 432x288 with 1 Axes>"
      ]
     },
     "metadata": {
      "needs_background": "light"
     },
     "output_type": "display_data"
    }
   ],
   "source": [
    "plt.hist(y_prior_checks.flatten(), histtype='stepfilled', alpha=0.3, color=\"orange\", edgecolor='grey', bins=np.arange(0,28,1), density=True)\n",
    "plt.hist(df.y, histtype='stepfilled', alpha=0.3, color=\"yellow\", edgecolor='grey', density=True, bins=np.arange(0,28,1))\n",
    "plt.legend([\"y prior predictive distribution\", \"y distribution\"])\n",
    "plt.show()"
   ]
  },
  {
   "cell_type": "code",
   "execution_count": 132,
   "metadata": {},
   "outputs": [
    {
     "data": {
      "text/plain": [
       "998495000.0"
      ]
     },
     "execution_count": 132,
     "metadata": {},
     "output_type": "execute_result"
    }
   ],
   "source": [
    "np.nanmax(y_prior_checks)"
   ]
  },
  {
   "cell_type": "markdown",
   "metadata": {},
   "source": [
    "Parameters are mostly limited to the range (-20, 20), but because their product with input data is exponentiated, corresponding y values can be very large (even though most of y values are 0)."
   ]
  },
  {
   "cell_type": "markdown",
   "metadata": {},
   "source": [
    "Trying priors with smaller $\\sigma$=0,5:"
   ]
  },
  {
   "cell_type": "code",
   "execution_count": 146,
   "metadata": {},
   "outputs": [
    {
     "name": "stderr",
     "output_type": "stream",
     "text": [
      "INFO:cmdstanpy:start chain 1\n",
      "INFO:cmdstanpy:finish chain 1\n"
     ]
    }
   ],
   "source": [
    "data_prior_checks = dict(N=len(df),\n",
    "                         x1=df.x_1.values,\n",
    "                         x2=df.x_2.values,\n",
    "                         x3=df.x_3.values,\n",
    "                         sigma=0.5)\n",
    "\n",
    "sim_prior_checks=model_prior_checks.sample(data=data_prior_checks, \n",
    "                           iter_sampling=1000, iter_warmup=0, \n",
    "                           chains=1,\n",
    "                           fixed_param=True)"
   ]
  },
  {
   "cell_type": "code",
   "execution_count": 147,
   "metadata": {},
   "outputs": [],
   "source": [
    "beta1 = sim_prior_checks.stan_variable('beta1')\n",
    "beta2 = sim_prior_checks.stan_variable('beta2')\n",
    "beta3 = sim_prior_checks.stan_variable('beta3')\n",
    "alpha = sim_prior_checks.stan_variable('alpha')"
   ]
  },
  {
   "cell_type": "code",
   "execution_count": 148,
   "metadata": {},
   "outputs": [],
   "source": [
    "params=np.hstack((np.array([beta1]).T, np.array([beta2]).T, np.array([beta3]).T, np.array([alpha]).T))"
   ]
  },
  {
   "cell_type": "code",
   "execution_count": 149,
   "metadata": {},
   "outputs": [
    {
     "data": {
      "image/png": "[encoded data removed]",
      "text/plain": [
       "<Figure size 504x576 with 4 Axes>"
      ]
     },
     "metadata": {
      "needs_background": "light"
     },
     "output_type": "display_data"
    }
   ],
   "source": [
    "fig, axes = plt.subplots(2, 2, figsize=(7, 8), squeeze=False,sharex=True)\n",
    "axes_flat=axes.flatten()\n",
    "names_of_pars = [r'$\\beta_1$',r'$\\beta_2$',r'$\\beta_3$',r'$\\alpha$']\n",
    "for k in range(len(axes_flat)):\n",
    "    ax = axes_flat[k]\n",
    "    ax.hist(params[:,k],bins=20,color='orange',edgecolor='grey',density=True)\n",
    "    ax.set_title(names_of_pars[k])\n",
    "    ax.set_yticks([])\n",
    "fig.tight_layout()\n",
    "\n",
    "plt.show()"
   ]
  },
  {
   "cell_type": "code",
   "execution_count": 150,
   "metadata": {},
   "outputs": [],
   "source": [
    "y_prior_checks = sim_prior_checks.stan_variable('y')"
   ]
  },
  {
   "cell_type": "code",
   "execution_count": 151,
   "metadata": {},
   "outputs": [
    {
     "data": {
      "image/png": "[encoded data removed]",
      "text/plain": [
       "<Figure size 432x288 with 1 Axes>"
      ]
     },
     "metadata": {
      "needs_background": "light"
     },
     "output_type": "display_data"
    }
   ],
   "source": [
    "plt.hist(y_prior_checks.flatten(), histtype='stepfilled', alpha=0.3, color=\"orange\", edgecolor='grey', bins=np.arange(0,28,1), density=True)\n",
    "plt.hist(df.y, histtype='stepfilled', alpha=0.3, color=\"yellow\", edgecolor='grey', density=True, bins=np.arange(0,28,1))\n",
    "plt.legend([\"y prior predictive distribution\", \"y distribution\"])\n",
    "plt.show()"
   ]
  },
  {
   "cell_type": "code",
   "execution_count": 152,
   "metadata": {},
   "outputs": [
    {
     "data": {
      "text/plain": [
       "43.0"
      ]
     },
     "execution_count": 152,
     "metadata": {},
     "output_type": "execute_result"
    }
   ],
   "source": [
    "np.nanmax(y_prior_checks)"
   ]
  },
  {
   "cell_type": "markdown",
   "metadata": {},
   "source": [
    "Lower value of $\\sigma$=0.5 resulted in parameters being mostly limited to the range (-1, 1). This set appropriate bounds to the values of y, now having the biggest value of 43."
   ]
  },
  {
   "cell_type": "markdown",
   "metadata": {},
   "source": [
    "#### Posterior inference"
   ]
  },
  {
   "cell_type": "code",
   "execution_count": 168,
   "metadata": {},
   "outputs": [
    {
     "name": "stdout",
     "output_type": "stream",
     "text": [
      "data {\n",
      "  int<lower=0> N;\n",
      "  vector[N] x1;\n",
      "  vector[N] x2;\n",
      "  vector[N] x3;\n",
      "  int y[N];\n",
      "}\n",
      "\n",
      "parameters {\n",
      "  real alpha;\n",
      "  real beta1;\n",
      "  real beta2;\n",
      "  real beta3;\n",
      "}\n",
      "\n",
      "transformed parameters {\n",
      "  vector[N] lambda = x1*beta1+x2*beta2+x3*beta3+alpha;\n",
      "}\n",
      "\n",
      "model {\n",
      "  beta1 ~ normal(0, 0.5);\n",
      "  beta2 ~ normal(0, 0.5);\n",
      "  beta3 ~ normal(0, 0.5);\n",
      "  alpha ~ normal(0, 0.5);\n",
      "\n",
      "  y ~ poisson(exp(lambda));\n",
      "}\n",
      "\n",
      "generated quantities {\n",
      "  int y_ppc[N];\n",
      "  for (i in 1:N) {\n",
      "    y_ppc[i] = poisson_rng(exp(lambda[i]));\n",
      "  }\n",
      "}\n"
     ]
    }
   ],
   "source": [
    "with open('model.stan', 'r') as file:\n",
    "    print(file.read())"
   ]
  },
  {
   "cell_type": "code",
   "execution_count": 157,
   "metadata": {},
   "outputs": [
    {
     "name": "stderr",
     "output_type": "stream",
     "text": [
      "INFO:cmdstanpy:compiling stan program, exe file: /home/jaqb/Documents/stan/Data-Analytics-Course/lab6/model\n",
      "INFO:cmdstanpy:compiler options: stanc_options=None, cpp_options=None\n",
      "INFO:cmdstanpy:compiled model file: /home/jaqb/Documents/stan/Data-Analytics-Course/lab6/model\n"
     ]
    }
   ],
   "source": [
    "model = CmdStanModel(stan_file='model.stan')"
   ]
  },
  {
   "cell_type": "code",
   "execution_count": 158,
   "metadata": {},
   "outputs": [
    {
     "name": "stderr",
     "output_type": "stream",
     "text": [
      "INFO:cmdstanpy:start chain 1\n",
      "INFO:cmdstanpy:start chain 2\n",
      "INFO:cmdstanpy:start chain 3\n",
      "INFO:cmdstanpy:start chain 4\n",
      "INFO:cmdstanpy:finish chain 2\n",
      "INFO:cmdstanpy:finish chain 3\n",
      "INFO:cmdstanpy:finish chain 4\n",
      "INFO:cmdstanpy:finish chain 1\n"
     ]
    }
   ],
   "source": [
    "data_fit = dict(N=len(df),\n",
    "                x1=df.x_1.values,\n",
    "                x2=df.x_2.values,\n",
    "                x3=df.x_3.values,\n",
    "                y=df.y.values)\n",
    "\n",
    "fit = model.sample(data=data_fit)"
   ]
  },
  {
   "cell_type": "code",
   "execution_count": 162,
   "metadata": {},
   "outputs": [],
   "source": [
    "beta1 = fit.stan_variable('beta1')\n",
    "beta2 = fit.stan_variable('beta2')\n",
    "beta3 = fit.stan_variable('beta3')\n",
    "alpha = fit.stan_variable('alpha')"
   ]
  },
  {
   "cell_type": "code",
   "execution_count": 163,
   "metadata": {},
   "outputs": [],
   "source": [
    "params=np.hstack((np.array([beta1]).T, np.array([beta2]).T, np.array([beta3]).T, np.array([alpha]).T))"
   ]
  },
  {
   "cell_type": "markdown",
   "metadata": {},
   "source": [
    "Inferred distributions of parameters:"
   ]
  },
  {
   "cell_type": "code",
   "execution_count": 166,
   "metadata": {},
   "outputs": [
    {
     "data": {
      "image/png": "[encoded data removed]",
      "text/plain": [
       "<Figure size 504x576 with 4 Axes>"
      ]
     },
     "metadata": {
      "needs_background": "light"
     },
     "output_type": "display_data"
    }
   ],
   "source": [
    "fig, axes = plt.subplots(2, 2, figsize=(7, 8), squeeze=False)\n",
    "axes_flat=axes.flatten()\n",
    "names_of_pars = [r'$\\beta_1$',r'$\\beta_2$',r'$\\beta_3$',r'$\\alpha$']\n",
    "for k in range(len(axes_flat)):\n",
    "    ax = axes_flat[k]\n",
    "    ax.hist(params[:,k],bins=20,color='orange',edgecolor='grey',density=True)\n",
    "    ax.set_title(names_of_pars[k])\n",
    "    ax.set_yticks([])\n",
    "fig.tight_layout()\n",
    "\n",
    "plt.show()"
   ]
  },
  {
   "cell_type": "code",
   "execution_count": 171,
   "metadata": {},
   "outputs": [
    {
     "data": {
      "text/html": [
       "<div>\n",
       "<style scoped>\n",
       "    .dataframe tbody tr th:only-of-type {\n",
       "        vertical-align: middle;\n",
       "    }\n",
       "\n",
       "    .dataframe tbody tr th {\n",
       "        vertical-align: top;\n",
       "    }\n",
       "\n",
       "    .dataframe thead th {\n",
       "        text-align: right;\n",
       "    }\n",
       "</style>\n",
       "<table border=\"1\" class=\"dataframe\">\n",
       "  <thead>\n",
       "    <tr style=\"text-align: right;\">\n",
       "      <th></th>\n",
       "      <th>mean</th>\n",
       "      <th>sd</th>\n",
       "      <th>hdi_3%</th>\n",
       "      <th>hdi_97%</th>\n",
       "    </tr>\n",
       "  </thead>\n",
       "  <tbody>\n",
       "    <tr>\n",
       "      <th>beta1</th>\n",
       "      <td>-0.48</td>\n",
       "      <td>0.05</td>\n",
       "      <td>-0.57</td>\n",
       "      <td>-0.40</td>\n",
       "    </tr>\n",
       "    <tr>\n",
       "      <th>beta2</th>\n",
       "      <td>0.43</td>\n",
       "      <td>0.04</td>\n",
       "      <td>0.36</td>\n",
       "      <td>0.49</td>\n",
       "    </tr>\n",
       "    <tr>\n",
       "      <th>beta3</th>\n",
       "      <td>0.57</td>\n",
       "      <td>0.07</td>\n",
       "      <td>0.44</td>\n",
       "      <td>0.70</td>\n",
       "    </tr>\n",
       "    <tr>\n",
       "      <th>alpha</th>\n",
       "      <td>2.00</td>\n",
       "      <td>0.02</td>\n",
       "      <td>1.97</td>\n",
       "      <td>2.04</td>\n",
       "    </tr>\n",
       "  </tbody>\n",
       "</table>\n",
       "</div>"
      ],
      "text/plain": [
       "       mean    sd  hdi_3%  hdi_97%\n",
       "beta1 -0.48  0.05   -0.57    -0.40\n",
       "beta2  0.43  0.04    0.36     0.49\n",
       "beta3  0.57  0.07    0.44     0.70\n",
       "alpha  2.00  0.02    1.97     2.04"
      ]
     },
     "execution_count": 171,
     "metadata": {},
     "output_type": "execute_result"
    }
   ],
   "source": [
    "az.summary(fit,var_names=['beta1','beta2','beta3','alpha'],round_to=2,kind='stats')"
   ]
  },
  {
   "cell_type": "code",
   "execution_count": 169,
   "metadata": {},
   "outputs": [],
   "source": [
    "y_predicted = fit.stan_variable('y_ppc')"
   ]
  },
  {
   "cell_type": "code",
   "execution_count": 172,
   "metadata": {},
   "outputs": [
    {
     "data": {
      "image/png": "[encoded data removed]",
      "text/plain": [
       "<Figure size 432x288 with 1 Axes>"
      ]
     },
     "metadata": {
      "needs_background": "light"
     },
     "output_type": "display_data"
    }
   ],
   "source": [
    "plt.hist(y_predicted.flatten(), histtype='stepfilled', alpha=0.3, color=\"orange\", edgecolor='grey', bins=np.arange(0,28,1), density=True)\n",
    "plt.hist(df.y, histtype='stepfilled', alpha=0.3, color=\"yellow\", edgecolor='grey', density=True, bins=np.arange(0,28,1))\n",
    "plt.legend([\"y posterior predictive distribution\", \"y distribution\"])\n",
    "plt.show()"
   ]
  },
  {
   "cell_type": "markdown",
   "metadata": {},
   "source": [
    "There are differences in posterior predictive distribution of the data and real data."
   ]
  },
  {
   "cell_type": "markdown",
   "metadata": {},
   "source": [
    "# Exercise 1 part 2\n",
    "Determine the model's dispersion parameter and interpret the obtained result."
   ]
  },
  {
   "cell_type": "markdown",
   "metadata": {},
   "source": [
    "Second model was created using negative binomial distribution with dispersion parameterization. Such distribution has 2 parameters: $\\mu$-mean and $\\psi$=$\\phi^{-1}$-dispersion. When $\\psi$=0, then negative binomial distribution is just Poisson distribution.\n",
    "Model looks like this: $$y\\sim \\textrm{Negative Binomial}(\\textrm{exp}(\\mu), \\phi^{-1})$$ $$\\mu = \\beta_1x_1 + \\beta_2x_2 +\\beta_3x_3 + \\alpha$$ $$\\beta_1, \\beta_2, \\beta_3 \\sim \\textrm{Normal}(0, 0.5)$$ $$\\alpha \\sim \\textrm{Normal}(0, 0.5)$$ $$\\phi^{-1}\\sim\\textrm{Exponential}(1) $$"
   ]
  },
  {
   "cell_type": "code",
   "execution_count": 5,
   "metadata": {},
   "outputs": [
    {
     "name": "stdout",
     "output_type": "stream",
     "text": [
      "data {\n",
      "  int<lower=0> N;\n",
      "  vector[N] x1;\n",
      "  vector[N] x2;\n",
      "  vector[N] x3;\n",
      "  int y[N];\n",
      "}\n",
      "\n",
      "parameters {\n",
      "  real alpha;\n",
      "  real beta1;\n",
      "  real beta2;\n",
      "  real beta3;\n",
      "  real<lower=0> inv_phi;\n",
      "}\n",
      "\n",
      "transformed parameters {\n",
      "  real<lower=0> phi = 1 / inv_phi;\n",
      "}\n",
      "\n",
      "model {\n",
      "  beta1 ~ normal(0, 0.5);\n",
      "  beta2 ~ normal(0, 0.5);\n",
      "  beta3 ~ normal(0, 0.5);\n",
      "  alpha ~ normal(0, 0.5);\n",
      "  inv_phi ~ exponential(1);\n",
      "\n",
      "  y ~ neg_binomial_2(exp(x1*beta1+x2*beta2+x3*beta3+alpha), phi);\n",
      "}\n",
      "\n",
      "generated quantities {\n",
      "  int y_ppc[N];\n",
      "  for (i in 1:N) {\n",
      "    y_ppc[i] = neg_binomial_2_rng(exp(x1[i]*beta1+x2[i]*beta2+x3[i]*beta3+alpha), phi);\n",
      "  }\n",
      "}\n"
     ]
    }
   ],
   "source": [
    "with open('model_nb.stan', 'r') as file:\n",
    "    print(file.read())"
   ]
  },
  {
   "cell_type": "code",
   "execution_count": 6,
   "metadata": {},
   "outputs": [
    {
     "name": "stderr",
     "output_type": "stream",
     "text": [
      "INFO:cmdstanpy:compiling stan program, exe file: /home/jaqb/Documents/stan/Data-Analytics-Course/lab6/model_nb\n",
      "INFO:cmdstanpy:compiler options: stanc_options=None, cpp_options=None\n",
      "INFO:cmdstanpy:compiled model file: /home/jaqb/Documents/stan/Data-Analytics-Course/lab6/model_nb\n"
     ]
    }
   ],
   "source": [
    "model_nb = CmdStanModel(stan_file='model_nb.stan')"
   ]
  },
  {
   "cell_type": "code",
   "execution_count": 7,
   "metadata": {},
   "outputs": [
    {
     "name": "stderr",
     "output_type": "stream",
     "text": [
      "INFO:cmdstanpy:start chain 1\n",
      "INFO:cmdstanpy:start chain 2\n",
      "INFO:cmdstanpy:start chain 3\n",
      "INFO:cmdstanpy:start chain 4\n",
      "INFO:cmdstanpy:finish chain 1\n",
      "INFO:cmdstanpy:finish chain 3\n",
      "INFO:cmdstanpy:finish chain 4\n",
      "INFO:cmdstanpy:finish chain 2\n"
     ]
    }
   ],
   "source": [
    "data_fit = dict(N=len(df),\n",
    "                x1=df.x_1.values,\n",
    "                x2=df.x_2.values,\n",
    "                x3=df.x_3.values,\n",
    "                y=df.y.values)\n",
    "fit = model_nb.sample(data=data_fit)"
   ]
  },
  {
   "cell_type": "code",
   "execution_count": 8,
   "metadata": {},
   "outputs": [],
   "source": [
    "beta1 = fit.stan_variable('beta1')\n",
    "beta2 = fit.stan_variable('beta2')\n",
    "beta3 = fit.stan_variable('beta3')\n",
    "alpha = fit.stan_variable('alpha')\n",
    "inv_phi = fit.stan_variable('inv_phi')\n",
    "phi = fit.stan_variable('phi')"
   ]
  },
  {
   "cell_type": "code",
   "execution_count": 10,
   "metadata": {},
   "outputs": [],
   "source": [
    "params=np.hstack((np.array([beta1]).T, np.array([beta2]).T, np.array([beta3]).T, np.array([alpha]).T, np.array([phi]).T, np.array([inv_phi]).T))"
   ]
  },
  {
   "cell_type": "code",
   "execution_count": 16,
   "metadata": {},
   "outputs": [
    {
     "data": {
      "image/png": "[encoded data removed]",
      "text/plain": [
       "<Figure size 720x720 with 6 Axes>"
      ]
     },
     "metadata": {
      "needs_background": "light"
     },
     "output_type": "display_data"
    }
   ],
   "source": [
    "fig, axes = plt.subplots(2, 3, figsize=(10, 10), squeeze=False)\n",
    "axes_flat=axes.flatten()\n",
    "names_of_pars = [r'$\\beta_1$',r'$\\beta_2$',r'$\\beta_3$',r'$\\alpha$',r'$\\phi$',r'$\\psi=\\phi^{-1}$']\n",
    "for k in range(len(axes_flat)):\n",
    "    ax = axes_flat[k]\n",
    "    ax.hist(params[:,k],bins=20,color='orange',edgecolor='grey',density=True)\n",
    "    ax.set_title(names_of_pars[k])\n",
    "    ax.set_yticks([])\n",
    "fig.tight_layout()\n",
    "\n",
    "plt.show()"
   ]
  },
  {
   "cell_type": "code",
   "execution_count": 17,
   "metadata": {},
   "outputs": [
    {
     "data": {
      "text/html": [
       "<div>\n",
       "<style scoped>\n",
       "    .dataframe tbody tr th:only-of-type {\n",
       "        vertical-align: middle;\n",
       "    }\n",
       "\n",
       "    .dataframe tbody tr th {\n",
       "        vertical-align: top;\n",
       "    }\n",
       "\n",
       "    .dataframe thead th {\n",
       "        text-align: right;\n",
       "    }\n",
       "</style>\n",
       "<table border=\"1\" class=\"dataframe\">\n",
       "  <thead>\n",
       "    <tr style=\"text-align: right;\">\n",
       "      <th></th>\n",
       "      <th>mean</th>\n",
       "      <th>sd</th>\n",
       "      <th>hdi_3%</th>\n",
       "      <th>hdi_97%</th>\n",
       "    </tr>\n",
       "  </thead>\n",
       "  <tbody>\n",
       "    <tr>\n",
       "      <th>beta1</th>\n",
       "      <td>-0.47</td>\n",
       "      <td>0.06</td>\n",
       "      <td>-0.59</td>\n",
       "      <td>-0.37</td>\n",
       "    </tr>\n",
       "    <tr>\n",
       "      <th>beta2</th>\n",
       "      <td>0.43</td>\n",
       "      <td>0.05</td>\n",
       "      <td>0.35</td>\n",
       "      <td>0.52</td>\n",
       "    </tr>\n",
       "    <tr>\n",
       "      <th>beta3</th>\n",
       "      <td>0.56</td>\n",
       "      <td>0.09</td>\n",
       "      <td>0.39</td>\n",
       "      <td>0.73</td>\n",
       "    </tr>\n",
       "    <tr>\n",
       "      <th>alpha</th>\n",
       "      <td>2.00</td>\n",
       "      <td>0.02</td>\n",
       "      <td>1.96</td>\n",
       "      <td>2.04</td>\n",
       "    </tr>\n",
       "    <tr>\n",
       "      <th>phi</th>\n",
       "      <td>12.90</td>\n",
       "      <td>1.47</td>\n",
       "      <td>10.35</td>\n",
       "      <td>15.70</td>\n",
       "    </tr>\n",
       "    <tr>\n",
       "      <th>inv_phi</th>\n",
       "      <td>0.08</td>\n",
       "      <td>0.01</td>\n",
       "      <td>0.06</td>\n",
       "      <td>0.09</td>\n",
       "    </tr>\n",
       "  </tbody>\n",
       "</table>\n",
       "</div>"
      ],
      "text/plain": [
       "          mean    sd  hdi_3%  hdi_97%\n",
       "beta1    -0.47  0.06   -0.59    -0.37\n",
       "beta2     0.43  0.05    0.35     0.52\n",
       "beta3     0.56  0.09    0.39     0.73\n",
       "alpha     2.00  0.02    1.96     2.04\n",
       "phi      12.90  1.47   10.35    15.70\n",
       "inv_phi   0.08  0.01    0.06     0.09"
      ]
     },
     "execution_count": 17,
     "metadata": {},
     "output_type": "execute_result"
    }
   ],
   "source": [
    "az.summary(fit,var_names=['beta1','beta2','beta3','alpha', 'phi', 'inv_phi'],round_to=2,kind='stats')"
   ]
  },
  {
   "cell_type": "code",
   "execution_count": 18,
   "metadata": {},
   "outputs": [],
   "source": [
    "y_predicted = fit.stan_variable('y_ppc')"
   ]
  },
  {
   "cell_type": "code",
   "execution_count": 19,
   "metadata": {},
   "outputs": [
    {
     "data": {
      "image/png": "[encoded data removed]",
      "text/plain": [
       "<Figure size 432x288 with 1 Axes>"
      ]
     },
     "metadata": {
      "needs_background": "light"
     },
     "output_type": "display_data"
    }
   ],
   "source": [
    "plt.hist(y_predicted.flatten(), histtype='stepfilled', alpha=0.3, color=\"orange\", edgecolor='grey', bins=np.arange(0,28,1), density=True)\n",
    "plt.hist(df.y, histtype='stepfilled', alpha=0.3, color=\"yellow\", edgecolor='grey', density=True, bins=np.arange(0,28,1))\n",
    "plt.legend([\"y posterior predictive distribution\", \"y distribution\"])\n",
    "plt.show()"
   ]
  },
  {
   "cell_type": "markdown",
   "metadata": {},
   "source": [
    "With negative binomial distribution model, data generated by posterior distributions of parameters resemble real data more precisely. Dispersion has a posterior distribution with 0.94 highest density interval of [0.06, 0.09] and mean 0.08."
   ]
  }
 ],
 "metadata": {
  "kernelspec": {
   "display_name": "Python 3.8.8 64-bit ('stanEnv': conda)",
   "language": "python",
   "name": "python38864bitstanenvconda31622a7cbca6426181be089bb8215ec1"
  },
  "language_info": {
   "codemirror_mode": {
    "name": "ipython",
    "version": 3
   },
   "file_extension": ".py",
   "mimetype": "text/x-python",
   "name": "python",
   "nbconvert_exporter": "python",
   "pygments_lexer": "ipython3",
   "version": "3.8.8"
  }
 },
 "nbformat": 4,
 "nbformat_minor": 4
}
