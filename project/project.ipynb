{
 "cells": [
  {
   "cell_type": "markdown",
   "id": "pointed-bedroom",
   "metadata": {},
   "source": [
    "## Mini-Project - Predicting number of olympic medals won by european country"
   ]
  },
  {
   "cell_type": "code",
   "execution_count": 1,
   "id": "alike-johnston",
   "metadata": {},
   "outputs": [],
   "source": [
    "from cmdstanpy import CmdStanModel\n",
    "import arviz as az\n",
    "import numpy as np\n",
    "import scipy.stats as stats\n",
    "import pandas as pd\n",
    "import matplotlib.pyplot as plt\n",
    "import matplotlib as mpl"
   ]
  },
  {
   "cell_type": "code",
   "execution_count": 2,
   "id": "mobile-filling",
   "metadata": {},
   "outputs": [
    {
     "data": {
      "text/plain": [
       "'/home/jaqb/Documents/cmdstan-2.26.1'"
      ]
     },
     "execution_count": 2,
     "metadata": {},
     "output_type": "execute_result"
    }
   ],
   "source": [
    "from cmdstanpy import set_cmdstan_path, cmdstan_path\n",
    "set_cmdstan_path('/home/jaqb/Documents/cmdstan-2.26.1')\n",
    "cmdstan_path()"
   ]
  },
  {
   "cell_type": "markdown",
   "id": "finished-baseline",
   "metadata": {},
   "source": [
    "#### Data preparation"
   ]
  },
  {
   "cell_type": "markdown",
   "id": "alike-disclaimer",
   "metadata": {},
   "source": [
    "Loading data of olympic performances of all time:"
   ]
  },
  {
   "cell_type": "code",
   "execution_count": 3,
   "id": "cloudy-newton",
   "metadata": {},
   "outputs": [
    {
     "data": {
      "text/html": [
       "<div>\n",
       "<style scoped>\n",
       "    .dataframe tbody tr th:only-of-type {\n",
       "        vertical-align: middle;\n",
       "    }\n",
       "\n",
       "    .dataframe tbody tr th {\n",
       "        vertical-align: top;\n",
       "    }\n",
       "\n",
       "    .dataframe thead th {\n",
       "        text-align: right;\n",
       "    }\n",
       "</style>\n",
       "<table border=\"1\" class=\"dataframe\">\n",
       "  <thead>\n",
       "    <tr style=\"text-align: right;\">\n",
       "      <th></th>\n",
       "      <th>ID</th>\n",
       "      <th>Name</th>\n",
       "      <th>Sex</th>\n",
       "      <th>Age</th>\n",
       "      <th>Height</th>\n",
       "      <th>Weight</th>\n",
       "      <th>Team</th>\n",
       "      <th>NOC</th>\n",
       "      <th>Games</th>\n",
       "      <th>Year</th>\n",
       "      <th>Season</th>\n",
       "      <th>City</th>\n",
       "      <th>Sport</th>\n",
       "      <th>Event</th>\n",
       "      <th>Medal</th>\n",
       "    </tr>\n",
       "  </thead>\n",
       "  <tbody>\n",
       "    <tr>\n",
       "      <th>0</th>\n",
       "      <td>1</td>\n",
       "      <td>A Dijiang</td>\n",
       "      <td>M</td>\n",
       "      <td>24.0</td>\n",
       "      <td>180.0</td>\n",
       "      <td>80.0</td>\n",
       "      <td>China</td>\n",
       "      <td>CHN</td>\n",
       "      <td>1992 Summer</td>\n",
       "      <td>1992</td>\n",
       "      <td>Summer</td>\n",
       "      <td>Barcelona</td>\n",
       "      <td>Basketball</td>\n",
       "      <td>Basketball Men's Basketball</td>\n",
       "      <td>NaN</td>\n",
       "    </tr>\n",
       "    <tr>\n",
       "      <th>1</th>\n",
       "      <td>2</td>\n",
       "      <td>A Lamusi</td>\n",
       "      <td>M</td>\n",
       "      <td>23.0</td>\n",
       "      <td>170.0</td>\n",
       "      <td>60.0</td>\n",
       "      <td>China</td>\n",
       "      <td>CHN</td>\n",
       "      <td>2012 Summer</td>\n",
       "      <td>2012</td>\n",
       "      <td>Summer</td>\n",
       "      <td>London</td>\n",
       "      <td>Judo</td>\n",
       "      <td>Judo Men's Extra-Lightweight</td>\n",
       "      <td>NaN</td>\n",
       "    </tr>\n",
       "    <tr>\n",
       "      <th>2</th>\n",
       "      <td>3</td>\n",
       "      <td>Gunnar Nielsen Aaby</td>\n",
       "      <td>M</td>\n",
       "      <td>24.0</td>\n",
       "      <td>NaN</td>\n",
       "      <td>NaN</td>\n",
       "      <td>Denmark</td>\n",
       "      <td>DEN</td>\n",
       "      <td>1920 Summer</td>\n",
       "      <td>1920</td>\n",
       "      <td>Summer</td>\n",
       "      <td>Antwerpen</td>\n",
       "      <td>Football</td>\n",
       "      <td>Football Men's Football</td>\n",
       "      <td>NaN</td>\n",
       "    </tr>\n",
       "    <tr>\n",
       "      <th>3</th>\n",
       "      <td>4</td>\n",
       "      <td>Edgar Lindenau Aabye</td>\n",
       "      <td>M</td>\n",
       "      <td>34.0</td>\n",
       "      <td>NaN</td>\n",
       "      <td>NaN</td>\n",
       "      <td>Denmark/Sweden</td>\n",
       "      <td>DEN</td>\n",
       "      <td>1900 Summer</td>\n",
       "      <td>1900</td>\n",
       "      <td>Summer</td>\n",
       "      <td>Paris</td>\n",
       "      <td>Tug-Of-War</td>\n",
       "      <td>Tug-Of-War Men's Tug-Of-War</td>\n",
       "      <td>Gold</td>\n",
       "    </tr>\n",
       "    <tr>\n",
       "      <th>4</th>\n",
       "      <td>5</td>\n",
       "      <td>Christine Jacoba Aaftink</td>\n",
       "      <td>F</td>\n",
       "      <td>21.0</td>\n",
       "      <td>185.0</td>\n",
       "      <td>82.0</td>\n",
       "      <td>Netherlands</td>\n",
       "      <td>NED</td>\n",
       "      <td>1988 Winter</td>\n",
       "      <td>1988</td>\n",
       "      <td>Winter</td>\n",
       "      <td>Calgary</td>\n",
       "      <td>Speed Skating</td>\n",
       "      <td>Speed Skating Women's 500 metres</td>\n",
       "      <td>NaN</td>\n",
       "    </tr>\n",
       "  </tbody>\n",
       "</table>\n",
       "</div>"
      ],
      "text/plain": [
       "   ID                      Name Sex   Age  Height  Weight            Team  \\\n",
       "0   1                 A Dijiang   M  24.0   180.0    80.0           China   \n",
       "1   2                  A Lamusi   M  23.0   170.0    60.0           China   \n",
       "2   3       Gunnar Nielsen Aaby   M  24.0     NaN     NaN         Denmark   \n",
       "3   4      Edgar Lindenau Aabye   M  34.0     NaN     NaN  Denmark/Sweden   \n",
       "4   5  Christine Jacoba Aaftink   F  21.0   185.0    82.0     Netherlands   \n",
       "\n",
       "   NOC        Games  Year  Season       City          Sport  \\\n",
       "0  CHN  1992 Summer  1992  Summer  Barcelona     Basketball   \n",
       "1  CHN  2012 Summer  2012  Summer     London           Judo   \n",
       "2  DEN  1920 Summer  1920  Summer  Antwerpen       Football   \n",
       "3  DEN  1900 Summer  1900  Summer      Paris     Tug-Of-War   \n",
       "4  NED  1988 Winter  1988  Winter    Calgary  Speed Skating   \n",
       "\n",
       "                              Event Medal  \n",
       "0       Basketball Men's Basketball   NaN  \n",
       "1      Judo Men's Extra-Lightweight   NaN  \n",
       "2           Football Men's Football   NaN  \n",
       "3       Tug-Of-War Men's Tug-Of-War  Gold  \n",
       "4  Speed Skating Women's 500 metres   NaN  "
      ]
     },
     "execution_count": 3,
     "metadata": {},
     "output_type": "execute_result"
    }
   ],
   "source": [
    "path = \"athlete_events.csv\"\n",
    "df = pd.read_csv(path, header=0)\n",
    "df.head()"
   ]
  },
  {
   "cell_type": "markdown",
   "id": "rental-paraguay",
   "metadata": {},
   "source": [
    "Taking only performances of the latest olympic games in 2016 in Rio de Janeiro. Only Team and Medal columns will be used in analysis."
   ]
  },
  {
   "cell_type": "code",
   "execution_count": 4,
   "id": "hazardous-miami",
   "metadata": {},
   "outputs": [],
   "source": [
    "filt = df[\"Year\"] == 2016 \n",
    "df = df[filt][[\"Team\", \"Medal\"]]"
   ]
  },
  {
   "cell_type": "markdown",
   "id": "green-tension",
   "metadata": {},
   "source": [
    "Grouping data by country and assign count of medals won to each country: "
   ]
  },
  {
   "cell_type": "code",
   "execution_count": 5,
   "id": "rising-bedroom",
   "metadata": {},
   "outputs": [],
   "source": [
    "team_group = df.groupby(\"Team\")\n",
    "df = team_group.count()\n",
    "df.columns = [\"Medals\"]"
   ]
  },
  {
   "cell_type": "markdown",
   "id": "received-surname",
   "metadata": {},
   "source": [
    "Setting proper names to some countries:"
   ]
  },
  {
   "cell_type": "code",
   "execution_count": 6,
   "id": "virtual-general",
   "metadata": {},
   "outputs": [],
   "source": [
    "as_list = df.index.tolist()\n",
    "idx = as_list.index('Great Britain')\n",
    "as_list[idx] = 'United Kingdom'\n",
    "idx2 = as_list.index('Russia')\n",
    "as_list[idx2] = 'Russian Federation'\n",
    "idx2 = as_list.index('Slovakia')\n",
    "as_list[idx2] = 'Slovak Republic'\n",
    "df.index = as_list"
   ]
  },
  {
   "cell_type": "markdown",
   "id": "center-parent",
   "metadata": {},
   "source": [
    "Taking only european countries:"
   ]
  },
  {
   "cell_type": "code",
   "execution_count": 7,
   "id": "surprised-collective",
   "metadata": {},
   "outputs": [],
   "source": [
    "eu = pd.read_csv(\"eucountries.csv\", header=0)\n",
    "df = df.merge(eu, how='inner', left_index=True, right_on=\"x\")\n",
    "df.rename(columns={'x':'Country'}, inplace=True)\n",
    "df.set_index(\"Country\", inplace=True)"
   ]
  },
  {
   "cell_type": "markdown",
   "id": "criminal-symposium",
   "metadata": {},
   "source": [
    "Adding countries population data in 2016:"
   ]
  },
  {
   "cell_type": "code",
   "execution_count": 8,
   "id": "specific-honor",
   "metadata": {},
   "outputs": [],
   "source": [
    "pop = pd.read_csv(\"countries_population.csv\", skiprows=4)\n",
    "pop = pop[[\"Country Name\", \"2016\"]]\n",
    "df = df.merge(pop, how='inner', left_index=True, right_on=\"Country Name\")\n",
    "df.columns = [\"Medals\", \"Country\", \"Population\"]\n",
    "df.set_index(\"Country\", inplace=True)"
   ]
  },
  {
   "cell_type": "markdown",
   "id": "ruled-chemical",
   "metadata": {},
   "source": [
    "Adding urbanization data:"
   ]
  },
  {
   "cell_type": "code",
   "execution_count": 9,
   "id": "expected-sauce",
   "metadata": {},
   "outputs": [],
   "source": [
    "urban = pd.read_csv(\"urban.csv\", skiprows=4)\n",
    "urban = urban[[\"Country Name\", \"2016\"]]\n",
    "df = df.merge(urban, how='inner', left_index=True, right_on=\"Country Name\")\n",
    "df.columns = [\"Medals\", \"Population\", \"Country\", \"Urbanization\"]\n",
    "df.set_index(\"Country\", inplace=True)"
   ]
  },
  {
   "cell_type": "markdown",
   "id": "silent-james",
   "metadata": {},
   "source": [
    "Taking logarithm of population, because it seems that magnitude of this predictor is what could matter:"
   ]
  },
  {
   "cell_type": "code",
   "execution_count": 10,
   "id": "sensitive-quarterly",
   "metadata": {},
   "outputs": [
    {
     "data": {
      "text/html": [
       "<div>\n",
       "<style scoped>\n",
       "    .dataframe tbody tr th:only-of-type {\n",
       "        vertical-align: middle;\n",
       "    }\n",
       "\n",
       "    .dataframe tbody tr th {\n",
       "        vertical-align: top;\n",
       "    }\n",
       "\n",
       "    .dataframe thead th {\n",
       "        text-align: right;\n",
       "    }\n",
       "</style>\n",
       "<table border=\"1\" class=\"dataframe\">\n",
       "  <thead>\n",
       "    <tr style=\"text-align: right;\">\n",
       "      <th></th>\n",
       "      <th>Medals</th>\n",
       "      <th>Population</th>\n",
       "      <th>Urbanization</th>\n",
       "      <th>logPopulation</th>\n",
       "    </tr>\n",
       "    <tr>\n",
       "      <th>Country</th>\n",
       "      <th></th>\n",
       "      <th></th>\n",
       "      <th></th>\n",
       "      <th></th>\n",
       "    </tr>\n",
       "  </thead>\n",
       "  <tbody>\n",
       "    <tr>\n",
       "      <th>Austria</th>\n",
       "      <td>2</td>\n",
       "      <td>8736668.0</td>\n",
       "      <td>57.905</td>\n",
       "      <td>15.983039</td>\n",
       "    </tr>\n",
       "    <tr>\n",
       "      <th>Belgium</th>\n",
       "      <td>21</td>\n",
       "      <td>11331422.0</td>\n",
       "      <td>97.919</td>\n",
       "      <td>16.243090</td>\n",
       "    </tr>\n",
       "    <tr>\n",
       "      <th>Bulgaria</th>\n",
       "      <td>7</td>\n",
       "      <td>7127822.0</td>\n",
       "      <td>74.329</td>\n",
       "      <td>15.779516</td>\n",
       "    </tr>\n",
       "    <tr>\n",
       "      <th>Croatia</th>\n",
       "      <td>24</td>\n",
       "      <td>4174349.0</td>\n",
       "      <td>56.403</td>\n",
       "      <td>15.244469</td>\n",
       "    </tr>\n",
       "    <tr>\n",
       "      <th>Cyprus</th>\n",
       "      <td>0</td>\n",
       "      <td>1170189.0</td>\n",
       "      <td>66.881</td>\n",
       "      <td>13.972676</td>\n",
       "    </tr>\n",
       "    <tr>\n",
       "      <th>Czech Republic</th>\n",
       "      <td>13</td>\n",
       "      <td>10566332.0</td>\n",
       "      <td>73.570</td>\n",
       "      <td>16.173183</td>\n",
       "    </tr>\n",
       "    <tr>\n",
       "      <th>Denmark</th>\n",
       "      <td>41</td>\n",
       "      <td>5728010.0</td>\n",
       "      <td>87.642</td>\n",
       "      <td>15.560879</td>\n",
       "    </tr>\n",
       "    <tr>\n",
       "      <th>Estonia</th>\n",
       "      <td>4</td>\n",
       "      <td>1315790.0</td>\n",
       "      <td>68.563</td>\n",
       "      <td>14.089948</td>\n",
       "    </tr>\n",
       "    <tr>\n",
       "      <th>Finland</th>\n",
       "      <td>1</td>\n",
       "      <td>5495303.0</td>\n",
       "      <td>85.275</td>\n",
       "      <td>15.519404</td>\n",
       "    </tr>\n",
       "    <tr>\n",
       "      <th>France</th>\n",
       "      <td>96</td>\n",
       "      <td>66724104.0</td>\n",
       "      <td>79.917</td>\n",
       "      <td>18.016077</td>\n",
       "    </tr>\n",
       "    <tr>\n",
       "      <th>Germany</th>\n",
       "      <td>157</td>\n",
       "      <td>82348669.0</td>\n",
       "      <td>77.224</td>\n",
       "      <td>18.226473</td>\n",
       "    </tr>\n",
       "    <tr>\n",
       "      <th>United Kingdom</th>\n",
       "      <td>145</td>\n",
       "      <td>65611593.0</td>\n",
       "      <td>82.886</td>\n",
       "      <td>17.999263</td>\n",
       "    </tr>\n",
       "    <tr>\n",
       "      <th>Greece</th>\n",
       "      <td>7</td>\n",
       "      <td>10775971.0</td>\n",
       "      <td>78.387</td>\n",
       "      <td>16.192829</td>\n",
       "    </tr>\n",
       "    <tr>\n",
       "      <th>Hungary</th>\n",
       "      <td>22</td>\n",
       "      <td>9814023.0</td>\n",
       "      <td>70.779</td>\n",
       "      <td>16.099323</td>\n",
       "    </tr>\n",
       "    <tr>\n",
       "      <th>Ireland</th>\n",
       "      <td>3</td>\n",
       "      <td>4755335.0</td>\n",
       "      <td>62.737</td>\n",
       "      <td>15.374778</td>\n",
       "    </tr>\n",
       "    <tr>\n",
       "      <th>Italy</th>\n",
       "      <td>70</td>\n",
       "      <td>60627498.0</td>\n",
       "      <td>69.855</td>\n",
       "      <td>17.920259</td>\n",
       "    </tr>\n",
       "    <tr>\n",
       "      <th>Latvia</th>\n",
       "      <td>0</td>\n",
       "      <td>1959537.0</td>\n",
       "      <td>68.021</td>\n",
       "      <td>14.488219</td>\n",
       "    </tr>\n",
       "    <tr>\n",
       "      <th>Lithuania</th>\n",
       "      <td>7</td>\n",
       "      <td>2868231.0</td>\n",
       "      <td>67.366</td>\n",
       "      <td>14.869206</td>\n",
       "    </tr>\n",
       "    <tr>\n",
       "      <th>Luxembourg</th>\n",
       "      <td>0</td>\n",
       "      <td>582014.0</td>\n",
       "      <td>90.460</td>\n",
       "      <td>13.274250</td>\n",
       "    </tr>\n",
       "    <tr>\n",
       "      <th>Malta</th>\n",
       "      <td>0</td>\n",
       "      <td>455356.0</td>\n",
       "      <td>94.480</td>\n",
       "      <td>13.028835</td>\n",
       "    </tr>\n",
       "    <tr>\n",
       "      <th>Netherlands</th>\n",
       "      <td>45</td>\n",
       "      <td>17030314.0</td>\n",
       "      <td>90.635</td>\n",
       "      <td>16.650505</td>\n",
       "    </tr>\n",
       "    <tr>\n",
       "      <th>Poland</th>\n",
       "      <td>16</td>\n",
       "      <td>37970087.0</td>\n",
       "      <td>60.178</td>\n",
       "      <td>17.452309</td>\n",
       "    </tr>\n",
       "    <tr>\n",
       "      <th>Portugal</th>\n",
       "      <td>1</td>\n",
       "      <td>10325452.0</td>\n",
       "      <td>64.086</td>\n",
       "      <td>16.150122</td>\n",
       "    </tr>\n",
       "    <tr>\n",
       "      <th>Romania</th>\n",
       "      <td>16</td>\n",
       "      <td>19702267.0</td>\n",
       "      <td>53.900</td>\n",
       "      <td>16.796244</td>\n",
       "    </tr>\n",
       "    <tr>\n",
       "      <th>Russian Federation</th>\n",
       "      <td>113</td>\n",
       "      <td>144342397.0</td>\n",
       "      <td>74.164</td>\n",
       "      <td>18.787699</td>\n",
       "    </tr>\n",
       "    <tr>\n",
       "      <th>Slovak Republic</th>\n",
       "      <td>8</td>\n",
       "      <td>5430798.0</td>\n",
       "      <td>53.806</td>\n",
       "      <td>15.507597</td>\n",
       "    </tr>\n",
       "    <tr>\n",
       "      <th>Slovenia</th>\n",
       "      <td>4</td>\n",
       "      <td>2065042.0</td>\n",
       "      <td>54.020</td>\n",
       "      <td>14.540661</td>\n",
       "    </tr>\n",
       "    <tr>\n",
       "      <th>Spain</th>\n",
       "      <td>43</td>\n",
       "      <td>46484062.0</td>\n",
       "      <td>79.840</td>\n",
       "      <td>17.654620</td>\n",
       "    </tr>\n",
       "    <tr>\n",
       "      <th>Sweden</th>\n",
       "      <td>28</td>\n",
       "      <td>9923085.0</td>\n",
       "      <td>86.852</td>\n",
       "      <td>16.110374</td>\n",
       "    </tr>\n",
       "  </tbody>\n",
       "</table>\n",
       "</div>"
      ],
      "text/plain": [
       "                    Medals   Population  Urbanization  logPopulation\n",
       "Country                                                             \n",
       "Austria                  2    8736668.0        57.905      15.983039\n",
       "Belgium                 21   11331422.0        97.919      16.243090\n",
       "Bulgaria                 7    7127822.0        74.329      15.779516\n",
       "Croatia                 24    4174349.0        56.403      15.244469\n",
       "Cyprus                   0    1170189.0        66.881      13.972676\n",
       "Czech Republic          13   10566332.0        73.570      16.173183\n",
       "Denmark                 41    5728010.0        87.642      15.560879\n",
       "Estonia                  4    1315790.0        68.563      14.089948\n",
       "Finland                  1    5495303.0        85.275      15.519404\n",
       "France                  96   66724104.0        79.917      18.016077\n",
       "Germany                157   82348669.0        77.224      18.226473\n",
       "United Kingdom         145   65611593.0        82.886      17.999263\n",
       "Greece                   7   10775971.0        78.387      16.192829\n",
       "Hungary                 22    9814023.0        70.779      16.099323\n",
       "Ireland                  3    4755335.0        62.737      15.374778\n",
       "Italy                   70   60627498.0        69.855      17.920259\n",
       "Latvia                   0    1959537.0        68.021      14.488219\n",
       "Lithuania                7    2868231.0        67.366      14.869206\n",
       "Luxembourg               0     582014.0        90.460      13.274250\n",
       "Malta                    0     455356.0        94.480      13.028835\n",
       "Netherlands             45   17030314.0        90.635      16.650505\n",
       "Poland                  16   37970087.0        60.178      17.452309\n",
       "Portugal                 1   10325452.0        64.086      16.150122\n",
       "Romania                 16   19702267.0        53.900      16.796244\n",
       "Russian Federation     113  144342397.0        74.164      18.787699\n",
       "Slovak Republic          8    5430798.0        53.806      15.507597\n",
       "Slovenia                 4    2065042.0        54.020      14.540661\n",
       "Spain                   43   46484062.0        79.840      17.654620\n",
       "Sweden                  28    9923085.0        86.852      16.110374"
      ]
     },
     "execution_count": 10,
     "metadata": {},
     "output_type": "execute_result"
    }
   ],
   "source": [
    "df[\"logPopulation\"] = np.log(df.Population)\n",
    "df"
   ]
  },
  {
   "cell_type": "markdown",
   "id": "alleged-shaft",
   "metadata": {},
   "source": [
    "## Predicting number of medals using population of a country"
   ]
  },
  {
   "cell_type": "markdown",
   "id": "documentary-limitation",
   "metadata": {},
   "source": [
    "The generalized linear model using Poisson likelihood and log link function looks like this:\n",
    "$$\\textrm{Medals}_i\\sim\\textrm{Poisson}(\\lambda_i)$$\n",
    "$$\\textrm{log}(\\lambda_i)=\\alpha+\\beta*\\textrm{logPopulation}_i$$\n",
    "$$-\\alpha\\sim\\textrm{Exponential}(0,5)$$\n",
    "$$\\beta\\sim\\textrm{Half-Normal}(0, 0.12)$$\n",
    "It is very likely that for small population with log population close to 0, number of predicted medals should have Poisson distribution with $\\lambda$ close to 0. Negative $\\alpha$ meets this assumption, because exponential of a negative number is between 0 and 1.<br>\n",
    "In 2016 olympic games there were 306 sport competitions and 918 medals to won. It is very unlikely for some european country to get close to winning all medals. The biggest population among european countries has Russia with log if it accounting to 18.79. Assuming $\\alpha=0$, $\\beta$ of 0.36 gives $\\lambda$ parameter of 918. $\\beta$ should also be non-negative, because positive relationship is expected. Half-normal distribution with $\\mu=0$ and $\\sigma=0.12$ leaves 0.03% probability of $\\beta>0.36$ and it was used as a $\\beta$ prior. <br>Assumption about $\\alpha=0$ influences calculations for sensible prior for $\\beta$ a lot. For $\\alpha=-14.6$, $\\beta$ value of even 1.14 is ok (Poisson $\\lambda$=918), but for $\\alpha=0$, such $\\beta$ value causes int32 overflow."
   ]
  },
  {
   "cell_type": "markdown",
   "id": "infinite-simple",
   "metadata": {},
   "source": [
    "#### Prior predictive checks"
   ]
  },
  {
   "cell_type": "code",
   "execution_count": 11,
   "id": "alike-shaft",
   "metadata": {},
   "outputs": [
    {
     "name": "stdout",
     "output_type": "stream",
     "text": [
      "data {\n",
      "  int N;\n",
      "  real x[N];\n",
      "  real<lower=0> sigma_beta;\n",
      "  real<lower=0> lambda_alpha;\n",
      "}\n",
      "\n",
      "generated quantities {\n",
      "  real alpha = exponential_rng(lambda_alpha);\n",
      "  real<lower=0> beta = normal_rng(0, sigma_beta);\n",
      "  int y[N];\n",
      "  for (i in 1:N) {\n",
      "    y[i] = poisson_rng(exp(-alpha+beta*x[i]));\n",
      "  }\n",
      "}\n"
     ]
    }
   ],
   "source": [
    "with open('model_ppc.stan', 'r') as file:\n",
    "    print(file.read())"
   ]
  },
  {
   "cell_type": "code",
   "execution_count": 12,
   "id": "governmental-fleece",
   "metadata": {},
   "outputs": [
    {
     "name": "stderr",
     "output_type": "stream",
     "text": [
      "INFO:cmdstanpy:found newer exe file, not recompiling\n",
      "INFO:cmdstanpy:compiled model file: /home/jaqb/Documents/stan/Data-Analytics-Course/project/model_ppc\n"
     ]
    }
   ],
   "source": [
    "model_ppc = CmdStanModel(stan_file='model_ppc.stan')"
   ]
  },
  {
   "cell_type": "code",
   "execution_count": 13,
   "id": "dominican-reader",
   "metadata": {},
   "outputs": [
    {
     "name": "stderr",
     "output_type": "stream",
     "text": [
      "INFO:cmdstanpy:start chain 1\n",
      "INFO:cmdstanpy:finish chain 1\n"
     ]
    }
   ],
   "source": [
    "data_sim = {'N':50, \n",
    "            'x':np.linspace(df.logPopulation.min(), df.logPopulation.max()),\n",
    "            'lambda_alpha':0.5,\n",
    "            'sigma_beta':0.12}\n",
    "sim = model_ppc.sample(data=data_sim, \n",
    "                     iter_sampling=1000, \n",
    "                     iter_warmup=0, \n",
    "                     chains=1, \n",
    "                     fixed_param=True)"
   ]
  },
  {
   "cell_type": "code",
   "execution_count": 14,
   "id": "underlying-equity",
   "metadata": {},
   "outputs": [],
   "source": [
    "alpha_prior_checks = -sim.stan_variable('alpha')\n",
    "beta_prior_checks = sim.stan_variable('beta')\n",
    "medals_prior_checks = sim.stan_variable('y')"
   ]
  },
  {
   "cell_type": "code",
   "execution_count": 15,
   "id": "crucial-peter",
   "metadata": {},
   "outputs": [
    {
     "data": {
      "image/png": "[encoded data removed]",
      "text/plain": [
       "<Figure size 720x360 with 2 Axes>"
      ]
     },
     "metadata": {
      "needs_background": "light"
     },
     "output_type": "display_data"
    }
   ],
   "source": [
    "fig, axes = plt.subplots(1, 2, figsize=(10, 5), squeeze=False)\n",
    "axes_flat = axes.flatten()\n",
    "ax = axes_flat[0]\n",
    "ax.hist(alpha_prior_checks,bins=20,color='orange',edgecolor='grey',density=True)\n",
    "ax.set_title(r'$\\alpha$')\n",
    "ax.set_yticks([])\n",
    "\n",
    "ax = axes_flat[1]\n",
    "ax.hist(beta_prior_checks,bins=20,color='orange',edgecolor='grey',density=True)\n",
    "ax.set_title(r'$\\beta$')\n",
    "ax.set_yticks([])\n",
    "\n",
    "fig.suptitle('Prior distributions')\n",
    "\n",
    "plt.show()"
   ]
  },
  {
   "cell_type": "code",
   "execution_count": 16,
   "id": "integrated-break",
   "metadata": {},
   "outputs": [
    {
     "data": {
      "image/png": "[encoded data removed]",
      "text/plain": [
       "<Figure size 504x576 with 1 Axes>"
      ]
     },
     "metadata": {
      "needs_background": "light"
     },
     "output_type": "display_data"
    }
   ],
   "source": [
    "fig, axes = plt.subplots(1, 1, figsize=(7, 8),sharey=True,sharex=True)\n",
    "ax0=axes\n",
    "n = 1000\n",
    "x = np.sort(df.logPopulation)\n",
    "for i in range(n):\n",
    "    ax0.plot(x,\n",
    "              np.exp(alpha_prior_checks[i]+beta_prior_checks[i]*x),\n",
    "              color='orange',\n",
    "              alpha=0.5,linewidth=0.5)\n",
    "ax0.set_ylabel(r'Poisson $\\lambda$ parameter')\n",
    "ax0.set_title(r'{} lines produced by prior samples of $\\alpha$ and $\\beta$'.format(n))\n",
    "ax0.set_xlabel('logPopulation')\n",
    "\n",
    "plt.show()"
   ]
  },
  {
   "cell_type": "markdown",
   "id": "endless-verse",
   "metadata": {},
   "source": [
    "Most of lines suggest very weak relationship between variables, but some stronger relationships are also possible before seeing data."
   ]
  },
  {
   "cell_type": "code",
   "execution_count": 17,
   "id": "brilliant-upset",
   "metadata": {},
   "outputs": [
    {
     "data": {
      "image/png": "[encoded data removed]",
      "text/plain": [
       "<Figure size 432x288 with 1 Axes>"
      ]
     },
     "metadata": {
      "needs_background": "light"
     },
     "output_type": "display_data"
    }
   ],
   "source": [
    "plt.hist(medals_prior_checks.flatten(), histtype='stepfilled', alpha=0.3, color=\"orange\", edgecolor='grey', bins=np.arange(0, 170, 5), density=True)\n",
    "plt.hist(df.Medals, histtype='stepfilled', alpha=0.3, color=\"yellow\", edgecolor='grey', density=True, bins=np.arange(0, 170, 5))\n",
    "plt.legend([\"Medals prior predictive distribution\", \"Medals distribution\"])\n",
    "plt.show()"
   ]
  },
  {
   "cell_type": "markdown",
   "id": "affiliated-chambers",
   "metadata": {},
   "source": [
    "Prior predictive distribution for number of medals suggests that small numbers of them are expected by the model. "
   ]
  },
  {
   "cell_type": "markdown",
   "id": "parliamentary-market",
   "metadata": {},
   "source": [
    "#### Posterior inference"
   ]
  },
  {
   "cell_type": "code",
   "execution_count": 18,
   "id": "fewer-vanilla",
   "metadata": {},
   "outputs": [
    {
     "name": "stdout",
     "output_type": "stream",
     "text": [
      "data {\n",
      "  int N;\n",
      "  vector[N] x;\n",
      "  int y[N];\n",
      "  real<lower=0> lambda_alpha;\n",
      "  real<lower=0> sigma_beta;\n",
      "}\n",
      "\n",
      "parameters {\n",
      "  real alpha;\n",
      "  real<lower=0> beta;\n",
      "}\n",
      "\n",
      "transformed parameters {\n",
      "  vector[N] lambda = x*beta-alpha;\n",
      "}\n",
      "\n",
      "model {\n",
      "  alpha ~ exponential(lambda_alpha);\n",
      "  beta ~ normal(0, sigma_beta);\n",
      "  y ~ poisson(exp(lambda));\n",
      "}\n",
      "\n",
      "generated quantities {\n",
      "  vector[N] log_lik;\n",
      "  int y_ppc[N];\n",
      "  for (i in 1:N) {\n",
      "    log_lik[i] = poisson_lpmf(y[i] | exp(lambda[i]));\n",
      "    y_ppc[i] = poisson_rng(exp(lambda[i]));\n",
      "  }\n",
      "}\n"
     ]
    }
   ],
   "source": [
    "with open('model.stan', 'r') as file:\n",
    "    print(file.read())"
   ]
  },
  {
   "cell_type": "code",
   "execution_count": 19,
   "id": "dietary-senator",
   "metadata": {},
   "outputs": [
    {
     "name": "stderr",
     "output_type": "stream",
     "text": [
      "INFO:cmdstanpy:found newer exe file, not recompiling\n",
      "INFO:cmdstanpy:compiled model file: /home/jaqb/Documents/stan/Data-Analytics-Course/project/model\n"
     ]
    }
   ],
   "source": [
    "model=CmdStanModel(stan_file='model.stan')"
   ]
  },
  {
   "cell_type": "code",
   "execution_count": 20,
   "id": "synthetic-sharp",
   "metadata": {},
   "outputs": [
    {
     "name": "stderr",
     "output_type": "stream",
     "text": [
      "INFO:cmdstanpy:start chain 1\n",
      "INFO:cmdstanpy:start chain 2\n",
      "INFO:cmdstanpy:start chain 3\n",
      "INFO:cmdstanpy:start chain 4\n",
      "INFO:cmdstanpy:finish chain 3\n",
      "INFO:cmdstanpy:finish chain 4\n",
      "INFO:cmdstanpy:finish chain 1\n",
      "INFO:cmdstanpy:finish chain 2\n"
     ]
    }
   ],
   "source": [
    "data_fit=dict(N=len(df),\n",
    "              x=df.logPopulation.values,\n",
    "              y=df.Medals.values,\n",
    "              lambda_alpha=0.5,\n",
    "              sigma_beta=0.12)\n",
    "\n",
    "fit_population=model.sample(data=data_fit)"
   ]
  },
  {
   "cell_type": "code",
   "execution_count": 21,
   "id": "failing-penalty",
   "metadata": {},
   "outputs": [],
   "source": [
    "alpha_fit = -fit_population.stan_variable('alpha')\n",
    "beta_fit = fit_population.stan_variable('beta')\n",
    "medals_fit = fit_population.stan_variable('y_ppc')"
   ]
  },
  {
   "cell_type": "code",
   "execution_count": 22,
   "id": "homeless-manner",
   "metadata": {},
   "outputs": [
    {
     "data": {
      "image/png": "[encoded data removed]",
      "text/plain": [
       "<Figure size 720x360 with 2 Axes>"
      ]
     },
     "metadata": {
      "needs_background": "light"
     },
     "output_type": "display_data"
    }
   ],
   "source": [
    "fig, axes = plt.subplots(1, 2, figsize=(10, 5), squeeze=False)\n",
    "axes_flat = axes.flatten()\n",
    "ax = axes_flat[0]\n",
    "ax.hist(alpha_fit,bins=20,color='orange',edgecolor='grey',density=True)\n",
    "ax.set_title(r'$\\alpha$')\n",
    "ax.set_yticks([])\n",
    "\n",
    "ax = axes_flat[1]\n",
    "ax.hist(beta_fit,bins=20,color='orange',edgecolor='grey',density=True)\n",
    "ax.set_title(r'$\\beta$')\n",
    "ax.set_yticks([])\n",
    "\n",
    "fig.suptitle(\"Posterior distributions\")\n",
    "plt.show()"
   ]
  },
  {
   "cell_type": "code",
   "execution_count": 23,
   "id": "desperate-murray",
   "metadata": {},
   "outputs": [
    {
     "data": {
      "text/html": [
       "<div>\n",
       "<style scoped>\n",
       "    .dataframe tbody tr th:only-of-type {\n",
       "        vertical-align: middle;\n",
       "    }\n",
       "\n",
       "    .dataframe tbody tr th {\n",
       "        vertical-align: top;\n",
       "    }\n",
       "\n",
       "    .dataframe thead th {\n",
       "        text-align: right;\n",
       "    }\n",
       "</style>\n",
       "<table border=\"1\" class=\"dataframe\">\n",
       "  <thead>\n",
       "    <tr style=\"text-align: right;\">\n",
       "      <th></th>\n",
       "      <th>mean</th>\n",
       "      <th>sd</th>\n",
       "      <th>hdi_3%</th>\n",
       "      <th>hdi_97%</th>\n",
       "    </tr>\n",
       "  </thead>\n",
       "  <tbody>\n",
       "    <tr>\n",
       "      <th>alpha</th>\n",
       "      <td>-10.12</td>\n",
       "      <td>0.53</td>\n",
       "      <td>-11.05</td>\n",
       "      <td>-9.03</td>\n",
       "    </tr>\n",
       "    <tr>\n",
       "      <th>beta</th>\n",
       "      <td>0.81</td>\n",
       "      <td>0.03</td>\n",
       "      <td>0.74</td>\n",
       "      <td>0.86</td>\n",
       "    </tr>\n",
       "  </tbody>\n",
       "</table>\n",
       "</div>"
      ],
      "text/plain": [
       "        mean    sd  hdi_3%  hdi_97%\n",
       "alpha -10.12  0.53  -11.05    -9.03\n",
       "beta    0.81  0.03    0.74     0.86"
      ]
     },
     "execution_count": 23,
     "metadata": {},
     "output_type": "execute_result"
    }
   ],
   "source": [
    "az.summary(dict(alpha=alpha_fit,beta=beta_fit), round_to=2, kind='stats')"
   ]
  },
  {
   "cell_type": "code",
   "execution_count": 24,
   "id": "dependent-tournament",
   "metadata": {},
   "outputs": [
    {
     "data": {
      "image/png": "[encoded data removed]",
      "text/plain": [
       "<Figure size 504x576 with 1 Axes>"
      ]
     },
     "metadata": {
      "needs_background": "light"
     },
     "output_type": "display_data"
    }
   ],
   "source": [
    "fig, axes = plt.subplots(1, 1, figsize=(7, 8),sharey=True,sharex=True)\n",
    "ax0=axes\n",
    "n = 50\n",
    "x = np.sort(df.logPopulation)\n",
    "for i in range(n):\n",
    "    ax0.plot(x,\n",
    "              np.exp(alpha_fit[i]+beta_fit[i]*x),\n",
    "              color='orange',\n",
    "              alpha=0.5,linewidth=0.5)\n",
    "ax0.scatter(df.logPopulation,df.Medals,color='black',alpha=0.1)\n",
    "ax0.set_ylabel('Poisson $\\lambda$ parameter')\n",
    "ax0.set_title(r'{} lines produced by posterior samples of $\\alpha$ and $\\beta$'.format(n))\n",
    "ax0.set_xlabel('logPopulation')\n",
    "\n",
    "plt.show()"
   ]
  },
  {
   "cell_type": "markdown",
   "id": "collect-rouge",
   "metadata": {},
   "source": [
    "Even though values for $\\beta$ around 0.8 had little prior probability, they were inferred as the most compatible with the data, along with $\\alpha$ values of around -10."
   ]
  },
  {
   "cell_type": "code",
   "execution_count": 25,
   "id": "fatal-fashion",
   "metadata": {},
   "outputs": [
    {
     "data": {
      "image/png": "[encoded data removed]",
      "text/plain": [
       "<Figure size 432x288 with 1 Axes>"
      ]
     },
     "metadata": {
      "needs_background": "light"
     },
     "output_type": "display_data"
    }
   ],
   "source": [
    "plt.hist(medals_fit.flatten(), histtype='stepfilled', alpha=0.3, color=\"orange\", edgecolor='grey', bins=np.arange(0, 170, 5), density=True)\n",
    "plt.hist(df.Medals, histtype='stepfilled', alpha=0.3, color=\"yellow\", edgecolor='grey', density=True, bins=np.arange(0, 170, 5))\n",
    "plt.legend([\"Medals posterior predictive distribution\", \"Medals distribution\"])\n",
    "plt.show()"
   ]
  },
  {
   "cell_type": "markdown",
   "id": "friendly-confidentiality",
   "metadata": {},
   "source": [
    "Posterior predictive distribution for number of medals underestimates smallest numbers of them (0-5) and overestimates slightly bigger numbers (5-20). For bigger values, posterior predictive distribution resembles patterns that can be found in real data. For example, there there are no 115-145 medal numbers in data, and model does not predict any counts there as well. For bigger values, there is some little prediction of them again."
   ]
  },
  {
   "cell_type": "markdown",
   "id": "parliamentary-folder",
   "metadata": {},
   "source": [
    "## Predicting number of medals using urbanization of a country"
   ]
  },
  {
   "cell_type": "markdown",
   "id": "potential-blade",
   "metadata": {},
   "source": [
    "The model looks similar as before:\n",
    "$$\\textrm{Medals}_i\\sim\\textrm{Poisson}(\\lambda_i)$$\n",
    "$$\\textrm{log}(\\lambda_i)=\\alpha+\\beta*\\textrm{Urbanization}_i$$\n",
    "$$-\\alpha\\sim\\textrm{Exponential}(0,5)$$\n",
    "$$\\beta\\sim\\textrm{Half-Normal}(0, 0.0227)$$\n",
    "Like before, it is assumed that small value of predictor (close to 0) produces predicted number of medals also around 0. Therefore, prior for $\\alpha$ has not been changed. \n",
    "The biggest possible urbanization is 100%. For such predictor value, $\\beta$ of 0.0682 results in Poisson's $\\lambda$ of 918 (assuming $\\alpha$=0), so $\\sigma$ in Half-Normal prior was set to 0.0.0227 to leave 0.03% probability for less probable values."
   ]
  },
  {
   "cell_type": "markdown",
   "id": "golden-costume",
   "metadata": {},
   "source": [
    "#### Prior predictive checks"
   ]
  },
  {
   "cell_type": "code",
   "execution_count": 26,
   "id": "becoming-ghost",
   "metadata": {},
   "outputs": [
    {
     "name": "stderr",
     "output_type": "stream",
     "text": [
      "INFO:cmdstanpy:start chain 1\n",
      "INFO:cmdstanpy:finish chain 1\n"
     ]
    }
   ],
   "source": [
    "data_sim = {'N':50, \n",
    "            'x':np.linspace(0, 100),\n",
    "            'lambda_alpha':0.5,\n",
    "            'sigma_beta':0.0227}\n",
    "sim = model_ppc.sample(data=data_sim, \n",
    "                     iter_sampling=1000, \n",
    "                     iter_warmup=0, \n",
    "                     chains=1, \n",
    "                     fixed_param=True)"
   ]
  },
  {
   "cell_type": "code",
   "execution_count": 27,
   "id": "deluxe-upset",
   "metadata": {},
   "outputs": [],
   "source": [
    "alpha_prior_checks = -sim.stan_variable('alpha')\n",
    "beta_prior_checks = sim.stan_variable('beta')\n",
    "medals_prior_checks = sim.stan_variable('y')"
   ]
  },
  {
   "cell_type": "code",
   "execution_count": 28,
   "id": "received-anxiety",
   "metadata": {},
   "outputs": [
    {
     "data": {
      "image/png": "[encoded data removed]",
      "text/plain": [
       "<Figure size 720x360 with 2 Axes>"
      ]
     },
     "metadata": {
      "needs_background": "light"
     },
     "output_type": "display_data"
    }
   ],
   "source": [
    "fig, axes = plt.subplots(1, 2, figsize=(10, 5), squeeze=False)\n",
    "axes_flat = axes.flatten()\n",
    "ax = axes_flat[0]\n",
    "ax.hist(alpha_prior_checks,bins=20,color='orange',edgecolor='grey',density=True)\n",
    "ax.set_title(r'$\\alpha$')\n",
    "ax.set_yticks([])\n",
    "\n",
    "ax = axes_flat[1]\n",
    "ax.hist(beta_prior_checks,bins=20,color='orange',edgecolor='grey',density=True)\n",
    "ax.set_title(r'$\\beta$')\n",
    "ax.set_yticks([])\n",
    "\n",
    "fig.suptitle('Prior distributions')\n",
    "\n",
    "plt.show()"
   ]
  },
  {
   "cell_type": "code",
   "execution_count": 29,
   "id": "hazardous-homework",
   "metadata": {},
   "outputs": [
    {
     "data": {
      "image/png": "[encoded data removed]",
      "text/plain": [
       "<Figure size 504x576 with 1 Axes>"
      ]
     },
     "metadata": {
      "needs_background": "light"
     },
     "output_type": "display_data"
    }
   ],
   "source": [
    "fig, axes = plt.subplots(1, 1, figsize=(7, 8),sharey=True,sharex=True)\n",
    "ax0=axes\n",
    "n = 1000\n",
    "x = np.sort(df.Urbanization)\n",
    "for i in range(n):\n",
    "    ax0.plot(x,\n",
    "              np.exp(alpha_prior_checks[i]+beta_prior_checks[i]*x),\n",
    "              color='orange',\n",
    "              alpha=0.5,linewidth=0.5)\n",
    "ax0.set_ylabel(r'Poisson $\\lambda$ parameter')\n",
    "ax0.set_title(r'{} lines produced by prior samples of $\\alpha$ and $\\beta$'.format(n))\n",
    "ax0.set_xlabel('Urbanization')\n",
    "\n",
    "plt.show()"
   ]
  },
  {
   "cell_type": "code",
   "execution_count": 30,
   "id": "acceptable-conviction",
   "metadata": {},
   "outputs": [
    {
     "data": {
      "image/png": "[encoded data removed]",
      "text/plain": [
       "<Figure size 432x288 with 1 Axes>"
      ]
     },
     "metadata": {
      "needs_background": "light"
     },
     "output_type": "display_data"
    }
   ],
   "source": [
    "plt.hist(medals_prior_checks.flatten(), histtype='stepfilled', alpha=0.3, color=\"orange\", edgecolor='grey', bins=np.arange(0, 170, 5), density=True)\n",
    "plt.hist(df.Medals, histtype='stepfilled', alpha=0.3, color=\"yellow\", edgecolor='grey', density=True, bins=np.arange(0, 170, 5))\n",
    "plt.legend([\"Medals prior predictive distribution\", \"Medals distribution\"])\n",
    "plt.show()"
   ]
  },
  {
   "cell_type": "markdown",
   "id": "earned-conservative",
   "metadata": {},
   "source": [
    "Predicted number of medals based on priors is slightly more concentrated on lower values than before."
   ]
  },
  {
   "cell_type": "markdown",
   "id": "bizarre-asbestos",
   "metadata": {},
   "source": [
    "#### Posterior inference"
   ]
  },
  {
   "cell_type": "code",
   "execution_count": 31,
   "id": "shaped-framing",
   "metadata": {},
   "outputs": [
    {
     "name": "stderr",
     "output_type": "stream",
     "text": [
      "INFO:cmdstanpy:start chain 1\n",
      "INFO:cmdstanpy:start chain 2\n",
      "INFO:cmdstanpy:start chain 3\n",
      "INFO:cmdstanpy:start chain 4\n",
      "INFO:cmdstanpy:finish chain 1\n",
      "INFO:cmdstanpy:finish chain 3\n",
      "INFO:cmdstanpy:finish chain 2\n",
      "INFO:cmdstanpy:finish chain 4\n"
     ]
    }
   ],
   "source": [
    "data_fit=dict(N=len(df),\n",
    "              x=df.Urbanization.values,\n",
    "              y=df.Medals.values,\n",
    "              lambda_alpha=0.5,\n",
    "              sigma_beta=0.0227)\n",
    "\n",
    "fit_urbanization=model.sample(data=data_fit)"
   ]
  },
  {
   "cell_type": "code",
   "execution_count": 32,
   "id": "african-planning",
   "metadata": {},
   "outputs": [],
   "source": [
    "alpha_fit = -fit_urbanization.stan_variable('alpha')\n",
    "beta_fit = fit_urbanization.stan_variable('beta')\n",
    "medals_fit = fit_urbanization.stan_variable('y_ppc')"
   ]
  },
  {
   "cell_type": "code",
   "execution_count": 33,
   "id": "north-sitting",
   "metadata": {},
   "outputs": [
    {
     "data": {
      "image/png": "[encoded data removed]",
      "text/plain": [
       "<Figure size 720x360 with 2 Axes>"
      ]
     },
     "metadata": {
      "needs_background": "light"
     },
     "output_type": "display_data"
    }
   ],
   "source": [
    "fig, axes = plt.subplots(1, 2, figsize=(10, 5), squeeze=False)\n",
    "axes_flat = axes.flatten()\n",
    "ax = axes_flat[0]\n",
    "ax.hist(alpha_fit,bins=20,color='orange',edgecolor='grey',density=True)\n",
    "ax.set_title(r'$\\alpha$')\n",
    "ax.set_yticks([])\n",
    "\n",
    "ax = axes_flat[1]\n",
    "ax.hist(beta_fit,bins=20,color='orange',edgecolor='grey',density=True)\n",
    "ax.set_title(r'$\\beta$')\n",
    "ax.set_yticks([])\n",
    "\n",
    "fig.suptitle(\"Posterior distributions\")\n",
    "plt.show()"
   ]
  },
  {
   "cell_type": "code",
   "execution_count": 34,
   "id": "herbal-flower",
   "metadata": {},
   "outputs": [
    {
     "data": {
      "text/html": [
       "<div>\n",
       "<style scoped>\n",
       "    .dataframe tbody tr th:only-of-type {\n",
       "        vertical-align: middle;\n",
       "    }\n",
       "\n",
       "    .dataframe tbody tr th {\n",
       "        vertical-align: top;\n",
       "    }\n",
       "\n",
       "    .dataframe thead th {\n",
       "        text-align: right;\n",
       "    }\n",
       "</style>\n",
       "<table border=\"1\" class=\"dataframe\">\n",
       "  <thead>\n",
       "    <tr style=\"text-align: right;\">\n",
       "      <th></th>\n",
       "      <th>mean</th>\n",
       "      <th>sd</th>\n",
       "      <th>hdi_3%</th>\n",
       "      <th>hdi_97%</th>\n",
       "    </tr>\n",
       "  </thead>\n",
       "  <tbody>\n",
       "    <tr>\n",
       "      <th>alpha</th>\n",
       "      <td>-0.03</td>\n",
       "      <td>0.03</td>\n",
       "      <td>-0.09</td>\n",
       "      <td>-0.00</td>\n",
       "    </tr>\n",
       "    <tr>\n",
       "      <th>beta</th>\n",
       "      <td>0.04</td>\n",
       "      <td>0.00</td>\n",
       "      <td>0.04</td>\n",
       "      <td>0.05</td>\n",
       "    </tr>\n",
       "  </tbody>\n",
       "</table>\n",
       "</div>"
      ],
      "text/plain": [
       "       mean    sd  hdi_3%  hdi_97%\n",
       "alpha -0.03  0.03   -0.09    -0.00\n",
       "beta   0.04  0.00    0.04     0.05"
      ]
     },
     "execution_count": 34,
     "metadata": {},
     "output_type": "execute_result"
    }
   ],
   "source": [
    "az.summary(dict(alpha=alpha_fit,beta=beta_fit), round_to=2, kind='stats')"
   ]
  },
  {
   "cell_type": "markdown",
   "id": "motivated-detail",
   "metadata": {},
   "source": [
    "Posterior values for $\\alpha$ and $\\beta$ are compatible with their priors."
   ]
  },
  {
   "cell_type": "code",
   "execution_count": 35,
   "id": "united-checklist",
   "metadata": {},
   "outputs": [
    {
     "data": {
      "image/png": "[encoded data removed]",
      "text/plain": [
       "<Figure size 504x576 with 1 Axes>"
      ]
     },
     "metadata": {
      "needs_background": "light"
     },
     "output_type": "display_data"
    }
   ],
   "source": [
    "fig, axes = plt.subplots(1, 1, figsize=(7, 8),sharey=True,sharex=True)\n",
    "ax0=axes\n",
    "n = 500\n",
    "x = np.sort(df.Urbanization)\n",
    "for i in range(n):\n",
    "    ax0.plot(x,\n",
    "              np.exp(alpha_fit[i]+beta_fit[i]*x),\n",
    "              color='orange',\n",
    "              alpha=0.5,linewidth=0.5)\n",
    "ax0.scatter(df.Urbanization,df.Medals,color='black',alpha=0.1)\n",
    "ax0.set_ylabel('Poisson $\\lambda$ parameter')\n",
    "ax0.set_title(r'{} lines produced by posterior samples of $\\alpha$ and $\\beta$'.format(n))\n",
    "ax0.set_xlabel('Urbanization')\n",
    "\n",
    "plt.show()"
   ]
  },
  {
   "cell_type": "markdown",
   "id": "manufactured-commonwealth",
   "metadata": {},
   "source": [
    "It seems that the model using urbanization as a predictor, fits data worse. The shape of exponential function is less compatible with the location of datapoints. "
   ]
  },
  {
   "cell_type": "code",
   "execution_count": 36,
   "id": "understood-tribune",
   "metadata": {},
   "outputs": [
    {
     "data": {
      "image/png": "[encoded data removed]",
      "text/plain": [
       "<Figure size 432x288 with 1 Axes>"
      ]
     },
     "metadata": {
      "needs_background": "light"
     },
     "output_type": "display_data"
    }
   ],
   "source": [
    "plt.hist(medals_fit.flatten(), histtype='stepfilled', alpha=0.3, color=\"orange\", edgecolor='grey', bins=np.arange(0, 170, 5), density=True)\n",
    "plt.hist(df.Medals, histtype='stepfilled', alpha=0.3, color=\"yellow\", edgecolor='grey', density=True, bins=np.arange(0, 170, 5))\n",
    "plt.legend([\"Medals posterior predictive distribution\", \"Medals distribution\"])\n",
    "plt.show()"
   ]
  },
  {
   "cell_type": "markdown",
   "id": "periodic-plane",
   "metadata": {},
   "source": [
    "Posterior predictive distribution drastically underestimates low values of medals. It also does not predict any values above 80, but in reality there are ones."
   ]
  },
  {
   "cell_type": "markdown",
   "id": "processed-burlington",
   "metadata": {},
   "source": [
    "#### Comparing the models"
   ]
  },
  {
   "cell_type": "markdown",
   "id": "official-kazakhstan",
   "metadata": {},
   "source": [
    "Preparing InferenceData objects:"
   ]
  },
  {
   "cell_type": "code",
   "execution_count": 37,
   "id": "average-elephant",
   "metadata": {},
   "outputs": [],
   "source": [
    "population_data = az.from_cmdstanpy(\n",
    "    posterior=fit_population,\n",
    "    posterior_predictive=\"y_ppc\",\n",
    "    observed_data={\"y\": df[\"Medals\"].values},\n",
    "    log_likelihood=\"log_lik\"\n",
    ")"
   ]
  },
  {
   "cell_type": "code",
   "execution_count": 38,
   "id": "polyphonic-newspaper",
   "metadata": {},
   "outputs": [],
   "source": [
    "urbanization_data = az.from_cmdstanpy(\n",
    "    posterior=fit_urbanization,\n",
    "    posterior_predictive=\"y_ppc\",\n",
    "    observed_data={\"y\": df[\"Medals\"].values},\n",
    "    log_likelihood=\"log_lik\"\n",
    ")"
   ]
  },
  {
   "cell_type": "markdown",
   "id": "relative-telescope",
   "metadata": {},
   "source": [
    "Comparing models using Arviz.compare():"
   ]
  },
  {
   "cell_type": "code",
   "execution_count": 39,
   "id": "innovative-attitude",
   "metadata": {},
   "outputs": [
    {
     "name": "stderr",
     "output_type": "stream",
     "text": [
      "/home/jaqb/anaconda3/envs/stanEnv/lib/python3.8/site-packages/arviz/stats/stats.py:145: UserWarning: The default method used to estimate the weights for each model,has changed from BB-pseudo-BMA to stacking\n",
      "  warnings.warn(\n",
      "/home/jaqb/anaconda3/envs/stanEnv/lib/python3.8/site-packages/arviz/stats/stats.py:655: UserWarning: Estimated shape parameter of Pareto distribution is greater than 0.7 for one or more samples. You should consider using a more robust model, this is because importance sampling is less likely to work well if the marginal posterior and LOO posterior are very different. This is more likely to happen with a non-robust model and highly influential observations.\n",
      "  warnings.warn(\n",
      "/home/jaqb/anaconda3/envs/stanEnv/lib/python3.8/site-packages/arviz/stats/stats.py:655: UserWarning: Estimated shape parameter of Pareto distribution is greater than 0.7 for one or more samples. You should consider using a more robust model, this is because importance sampling is less likely to work well if the marginal posterior and LOO posterior are very different. This is more likely to happen with a non-robust model and highly influential observations.\n",
      "  warnings.warn(\n"
     ]
    },
    {
     "data": {
      "text/html": [
       "<div>\n",
       "<style scoped>\n",
       "    .dataframe tbody tr th:only-of-type {\n",
       "        vertical-align: middle;\n",
       "    }\n",
       "\n",
       "    .dataframe tbody tr th {\n",
       "        vertical-align: top;\n",
       "    }\n",
       "\n",
       "    .dataframe thead th {\n",
       "        text-align: right;\n",
       "    }\n",
       "</style>\n",
       "<table border=\"1\" class=\"dataframe\">\n",
       "  <thead>\n",
       "    <tr style=\"text-align: right;\">\n",
       "      <th></th>\n",
       "      <th>rank</th>\n",
       "      <th>loo</th>\n",
       "      <th>p_loo</th>\n",
       "      <th>d_loo</th>\n",
       "      <th>weight</th>\n",
       "      <th>se</th>\n",
       "      <th>dse</th>\n",
       "      <th>warning</th>\n",
       "      <th>loo_scale</th>\n",
       "    </tr>\n",
       "  </thead>\n",
       "  <tbody>\n",
       "    <tr>\n",
       "      <th>population</th>\n",
       "      <td>0</td>\n",
       "      <td>-237.650103</td>\n",
       "      <td>29.715040</td>\n",
       "      <td>0.000000</td>\n",
       "      <td>0.719951</td>\n",
       "      <td>39.900423</td>\n",
       "      <td>0.00000</td>\n",
       "      <td>True</td>\n",
       "      <td>log</td>\n",
       "    </tr>\n",
       "    <tr>\n",
       "      <th>urbanization</th>\n",
       "      <td>1</td>\n",
       "      <td>-767.193796</td>\n",
       "      <td>59.093547</td>\n",
       "      <td>529.543693</td>\n",
       "      <td>0.280049</td>\n",
       "      <td>179.118509</td>\n",
       "      <td>169.06901</td>\n",
       "      <td>True</td>\n",
       "      <td>log</td>\n",
       "    </tr>\n",
       "  </tbody>\n",
       "</table>\n",
       "</div>"
      ],
      "text/plain": [
       "              rank         loo      p_loo       d_loo    weight          se  \\\n",
       "population       0 -237.650103  29.715040    0.000000  0.719951   39.900423   \n",
       "urbanization     1 -767.193796  59.093547  529.543693  0.280049  179.118509   \n",
       "\n",
       "                    dse  warning loo_scale  \n",
       "population      0.00000     True       log  \n",
       "urbanization  169.06901     True       log  "
      ]
     },
     "execution_count": 39,
     "metadata": {},
     "output_type": "execute_result"
    }
   ],
   "source": [
    "compare_dict = {\"population\": population_data, \"urbanization\": urbanization_data}\n",
    "az.compare(compare_dict, ic=\"loo\")"
   ]
  },
  {
   "cell_type": "markdown",
   "id": "fixed-fundamentals",
   "metadata": {},
   "source": [
    "Both models got warnings about high Pareto values for some samples. There are highly influential outliers in the sample and it is difficult to estimate predictive accuracy. Computations might not be reliable.<br>\n",
    "Population model got better LOO result than the one using urbanization as a predictor. Urbanization model is more than 500 units of deviance higher than the population one. Effective number of parameters accounts to around 30 in case of the population model and 59 in case of the urbanization one.<br>\n",
    "The difference in loo values along with standard errors suggest that the population model is better in predicting number of medals."
   ]
  }
 ],
 "metadata": {
  "kernelspec": {
   "display_name": "Python 3.8.8 64-bit ('stanEnv': conda)",
   "language": "python",
   "name": "python38864bitstanenvconda31622a7cbca6426181be089bb8215ec1"
  },
  "language_info": {
   "codemirror_mode": {
    "name": "ipython",
    "version": 3
   },
   "file_extension": ".py",
   "mimetype": "text/x-python",
   "name": "python",
   "nbconvert_exporter": "python",
   "pygments_lexer": "ipython3",
   "version": "3.8.8"
  }
 },
 "nbformat": 4,
 "nbformat_minor": 5
}
